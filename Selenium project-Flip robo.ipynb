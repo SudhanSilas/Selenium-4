{
 "cells": [
  {
   "cell_type": "code",
   "execution_count": 2,
   "metadata": {},
   "outputs": [],
   "source": [
    "import selenium\n",
    "import pandas as pd\n",
    "from selenium import webdriver\n",
    "import time\n",
    "from selenium.common.exceptions import NoSuchElementException"
   ]
  },
  {
   "cell_type": "code",
   "execution_count": 2,
   "metadata": {},
   "outputs": [],
   "source": [
    "driver=webdriver.Edge(\"msedgedriver.exe\")"
   ]
  },
  {
   "cell_type": "code",
   "execution_count": 3,
   "metadata": {},
   "outputs": [],
   "source": [
    "url='https://www.naukri.com/'\n",
    "driver.get(url)"
   ]
  },
  {
   "cell_type": "code",
   "execution_count": 4,
   "metadata": {},
   "outputs": [
    {
     "data": {
      "text/plain": [
       "<selenium.webdriver.remote.webelement.WebElement (session=\"b8ec0358d36b9a0195bd58a6b7818a07\", element=\"5518c58e-172c-4b55-b61b-62e6e4283821\")>"
      ]
     },
     "execution_count": 4,
     "metadata": {},
     "output_type": "execute_result"
    }
   ],
   "source": [
    "search_job=driver.find_element_by_id(\"qsb-keyword-sugg\")\n",
    "search_job"
   ]
  },
  {
   "cell_type": "code",
   "execution_count": 5,
   "metadata": {},
   "outputs": [],
   "source": [
    "search_job.send_keys(\"Data Scientist\")"
   ]
  },
  {
   "cell_type": "code",
   "execution_count": 6,
   "metadata": {},
   "outputs": [],
   "source": [
    "search_loc=driver.find_element_by_id(\"qsb-location-sugg\")\n",
    "search_loc.send_keys(\"Bangalore\")"
   ]
  },
  {
   "cell_type": "code",
   "execution_count": 7,
   "metadata": {},
   "outputs": [
    {
     "data": {
      "text/plain": [
       "<selenium.webdriver.remote.webelement.WebElement (session=\"b8ec0358d36b9a0195bd58a6b7818a07\", element=\"ec87af7e-6345-4332-9ed2-eeac23ba3fe7\")>"
      ]
     },
     "execution_count": 7,
     "metadata": {},
     "output_type": "execute_result"
    }
   ],
   "source": [
    "search_btn=driver.find_element_by_xpath(\"//button[@class='btn']\")\n",
    "search_btn"
   ]
  },
  {
   "cell_type": "code",
   "execution_count": 8,
   "metadata": {},
   "outputs": [],
   "source": [
    "search_btn.click()"
   ]
  },
  {
   "cell_type": "code",
   "execution_count": 31,
   "metadata": {},
   "outputs": [
    {
     "data": {
      "text/plain": [
       "[<selenium.webdriver.remote.webelement.WebElement (session=\"5c9e7055a18b1b273b6ca9cf8a183c18\", element=\"bf81307d-1194-4349-8eb4-4e336c03a9c9\")>]"
      ]
     },
     "execution_count": 31,
     "metadata": {},
     "output_type": "execute_result"
    }
   ],
   "source": [
    "title=driver.find_elements_by_xpath(\"//a[@class='title fw500 ellipsis']\")\n",
    "title[:1]"
   ]
  },
  {
   "cell_type": "code",
   "execution_count": 32,
   "metadata": {},
   "outputs": [
    {
     "data": {
      "text/plain": [
       "['Senior Data Scientist / Lead (Predictive Analytics)']"
      ]
     },
     "execution_count": 32,
     "metadata": {},
     "output_type": "execute_result"
    }
   ],
   "source": [
    "title_=[]\n",
    "for i in title:\n",
    "    title_.append(i.text)\n",
    "title_[:1]"
   ]
  },
  {
   "cell_type": "code",
   "execution_count": 33,
   "metadata": {},
   "outputs": [],
   "source": [
    "company_name_=driver.find_elements_by_xpath(\"//a[@class='subTitle ellipsis fleft']\")\n"
   ]
  },
  {
   "cell_type": "code",
   "execution_count": 34,
   "metadata": {},
   "outputs": [],
   "source": [
    "company_name=[]\n",
    "for i in company_name_:\n",
    "    company_name.append(i.text)\n"
   ]
  },
  {
   "cell_type": "code",
   "execution_count": 35,
   "metadata": {},
   "outputs": [],
   "source": [
    "exp=driver.find_elements_by_xpath(\"//li[@class='fleft grey-text br2 placeHolderLi experience']\")\n"
   ]
  },
  {
   "cell_type": "code",
   "execution_count": 36,
   "metadata": {},
   "outputs": [
    {
     "data": {
      "text/plain": [
       "['7-10 Yrs']"
      ]
     },
     "execution_count": 36,
     "metadata": {},
     "output_type": "execute_result"
    }
   ],
   "source": [
    "exp_=[]\n",
    "for i in exp:\n",
    "    exp_.append(i.text)\n",
    "exp_[:1]"
   ]
  },
  {
   "cell_type": "code",
   "execution_count": 37,
   "metadata": {},
   "outputs": [
    {
     "data": {
      "text/plain": [
       "[<selenium.webdriver.remote.webelement.WebElement (session=\"5c9e7055a18b1b273b6ca9cf8a183c18\", element=\"71806f4f-9137-4e35-a7cf-2edb887ea303\")>]"
      ]
     },
     "execution_count": 37,
     "metadata": {},
     "output_type": "execute_result"
    }
   ],
   "source": [
    "loc_=driver.find_elements_by_xpath('//li[@class=\"fleft grey-text br2 placeHolderLi location\"]/span')\n",
    "loc_[:1]"
   ]
  },
  {
   "cell_type": "code",
   "execution_count": 39,
   "metadata": {},
   "outputs": [
    {
     "data": {
      "text/plain": [
       "['Chennai']"
      ]
     },
     "execution_count": 39,
     "metadata": {},
     "output_type": "execute_result"
    }
   ],
   "source": [
    "loc=[]\n",
    "for i in loc_:\n",
    "    loc.append(i.text)\n",
    "loc[:1]"
   ]
  },
  {
   "cell_type": "code",
   "execution_count": 40,
   "metadata": {},
   "outputs": [
    {
     "name": "stdout",
     "output_type": "stream",
     "text": [
      "20 20 20 20\n"
     ]
    }
   ],
   "source": [
    "print(len(exp),len(exp),len(company_name),len(title_))"
   ]
  },
  {
   "cell_type": "code",
   "execution_count": 41,
   "metadata": {},
   "outputs": [
    {
     "data": {
      "text/html": [
       "<div>\n",
       "<style scoped>\n",
       "    .dataframe tbody tr th:only-of-type {\n",
       "        vertical-align: middle;\n",
       "    }\n",
       "\n",
       "    .dataframe tbody tr th {\n",
       "        vertical-align: top;\n",
       "    }\n",
       "\n",
       "    .dataframe thead th {\n",
       "        text-align: right;\n",
       "    }\n",
       "</style>\n",
       "<table border=\"1\" class=\"dataframe\">\n",
       "  <thead>\n",
       "    <tr style=\"text-align: right;\">\n",
       "      <th></th>\n",
       "      <th>Title</th>\n",
       "      <th>Company Name</th>\n",
       "      <th>Experiance</th>\n",
       "      <th>Job Location</th>\n",
       "    </tr>\n",
       "  </thead>\n",
       "  <tbody>\n",
       "    <tr>\n",
       "      <th>0</th>\n",
       "      <td>Senior Data Scientist / Lead (Predictive Analy...</td>\n",
       "      <td>AVE-Promagne</td>\n",
       "      <td>7-10 Yrs</td>\n",
       "      <td>Chennai</td>\n",
       "    </tr>\n",
       "    <tr>\n",
       "      <th>1</th>\n",
       "      <td>Sr Data Scientist ( From Service Industry )</td>\n",
       "      <td>AVE-Promagne</td>\n",
       "      <td>6-11 Yrs</td>\n",
       "      <td>Chennai</td>\n",
       "    </tr>\n",
       "    <tr>\n",
       "      <th>2</th>\n",
       "      <td>Associate Data Scientist - Process Mining</td>\n",
       "      <td>Shell India Markets Private Limited</td>\n",
       "      <td>3-8 Yrs</td>\n",
       "      <td>Chennai</td>\n",
       "    </tr>\n",
       "    <tr>\n",
       "      <th>3</th>\n",
       "      <td>Data Scientist / Data Analyst -Business Analyst</td>\n",
       "      <td>Inflexion Analytix Private Limited</td>\n",
       "      <td>0-3 Yrs</td>\n",
       "      <td>Mumbai, Hyderabad/Secunderabad, Pune, Gurgaon/...</td>\n",
       "    </tr>\n",
       "    <tr>\n",
       "      <th>4</th>\n",
       "      <td>Senior Data Scientist with Python</td>\n",
       "      <td>Next Bee Corporation</td>\n",
       "      <td>6-10 Yrs</td>\n",
       "      <td>Kolkata, Chandigarh, Hyderabad/Secunderabad, P...</td>\n",
       "    </tr>\n",
       "    <tr>\n",
       "      <th>5</th>\n",
       "      <td>Data Scientist - Process mining</td>\n",
       "      <td>Shell India Markets Private Limited</td>\n",
       "      <td>5-8 Yrs</td>\n",
       "      <td>Chennai</td>\n",
       "    </tr>\n",
       "    <tr>\n",
       "      <th>6</th>\n",
       "      <td>Data analytics / Data scientist intern (work f...</td>\n",
       "      <td>TalkValley LLC</td>\n",
       "      <td>0-5 Yrs</td>\n",
       "      <td>Kolkata, Bangalore/Bengaluru, Delhi / NCR</td>\n",
       "    </tr>\n",
       "    <tr>\n",
       "      <th>7</th>\n",
       "      <td>Data Scientist (Predictive Modelling,Python)</td>\n",
       "      <td>AVE-Promagne</td>\n",
       "      <td>6-8 Yrs</td>\n",
       "      <td>Chennai</td>\n",
       "    </tr>\n",
       "    <tr>\n",
       "      <th>8</th>\n",
       "      <td>Data Scientist (Predictive Analytics)</td>\n",
       "      <td>AVE-Promagne</td>\n",
       "      <td>2-4 Yrs</td>\n",
       "      <td>Chennai</td>\n",
       "    </tr>\n",
       "    <tr>\n",
       "      <th>9</th>\n",
       "      <td>Data Scientist</td>\n",
       "      <td>IntellectFaces Technology Solutions Pvt Ltd</td>\n",
       "      <td>0-5 Yrs</td>\n",
       "      <td>Chennai</td>\n",
       "    </tr>\n",
       "    <tr>\n",
       "      <th>10</th>\n",
       "      <td>Data Science- Associate Data Scientist</td>\n",
       "      <td>Jet2 Travel Technologies Pvt. Ltd.</td>\n",
       "      <td>0-2 Yrs</td>\n",
       "      <td>Pune</td>\n",
       "    </tr>\n",
       "    <tr>\n",
       "      <th>11</th>\n",
       "      <td>Associate Data Scientist</td>\n",
       "      <td>AlgoAnalytics Private Ltd.</td>\n",
       "      <td>0-1 Yrs</td>\n",
       "      <td>Pune(Baner)</td>\n",
       "    </tr>\n",
       "    <tr>\n",
       "      <th>12</th>\n",
       "      <td>Senior Data Scientist</td>\n",
       "      <td>RedBus</td>\n",
       "      <td>5-8 Yrs</td>\n",
       "      <td>Bangalore/Bengaluru</td>\n",
       "    </tr>\n",
       "    <tr>\n",
       "      <th>13</th>\n",
       "      <td>Immediate job opening - Senior Data Scientist</td>\n",
       "      <td>RedBus</td>\n",
       "      <td>5-8 Yrs</td>\n",
       "      <td>Bangalore/Bengaluru</td>\n",
       "    </tr>\n",
       "    <tr>\n",
       "      <th>14</th>\n",
       "      <td>Senior Data Scientist</td>\n",
       "      <td>Fractal Analytics</td>\n",
       "      <td>5-9 Yrs</td>\n",
       "      <td>Mumbai, Gurgaon/Gurugram, Bangalore/Bengaluru</td>\n",
       "    </tr>\n",
       "    <tr>\n",
       "      <th>15</th>\n",
       "      <td>Senior Data Scientist</td>\n",
       "      <td>Neptune Financial Software Private Ltd</td>\n",
       "      <td>3-5 Yrs</td>\n",
       "      <td>Chennai</td>\n",
       "    </tr>\n",
       "    <tr>\n",
       "      <th>16</th>\n",
       "      <td>Lead Data Scientist</td>\n",
       "      <td>FICO</td>\n",
       "      <td>6-11 Yrs</td>\n",
       "      <td>Bangalore/Bengaluru</td>\n",
       "    </tr>\n",
       "    <tr>\n",
       "      <th>17</th>\n",
       "      <td>Lead Data Scientist</td>\n",
       "      <td>Fractal Analytics</td>\n",
       "      <td>10-15 Yrs</td>\n",
       "      <td>Gurgaon/Gurugram, Bangalore/Bengaluru, Mumbai ...</td>\n",
       "    </tr>\n",
       "    <tr>\n",
       "      <th>18</th>\n",
       "      <td>Data Scientist - Manufacturing Domain (SCM asp...</td>\n",
       "      <td>Naukri Premium - Employer Services</td>\n",
       "      <td>7-12 Yrs</td>\n",
       "      <td>Kolkata, Pune, Chennai, Bangalore/Bengaluru, D...</td>\n",
       "    </tr>\n",
       "    <tr>\n",
       "      <th>19</th>\n",
       "      <td>Chaayos is Looking For Data Scientist</td>\n",
       "      <td>Chaayos (Sunshine Teahouse Pvt. Ltd.)</td>\n",
       "      <td>0-5 Yrs</td>\n",
       "      <td>New Delhi</td>\n",
       "    </tr>\n",
       "  </tbody>\n",
       "</table>\n",
       "</div>"
      ],
      "text/plain": [
       "                                                Title  \\\n",
       "0   Senior Data Scientist / Lead (Predictive Analy...   \n",
       "1         Sr Data Scientist ( From Service Industry )   \n",
       "2           Associate Data Scientist - Process Mining   \n",
       "3     Data Scientist / Data Analyst -Business Analyst   \n",
       "4                   Senior Data Scientist with Python   \n",
       "5                     Data Scientist - Process mining   \n",
       "6   Data analytics / Data scientist intern (work f...   \n",
       "7        Data Scientist (Predictive Modelling,Python)   \n",
       "8               Data Scientist (Predictive Analytics)   \n",
       "9                                      Data Scientist   \n",
       "10             Data Science- Associate Data Scientist   \n",
       "11                           Associate Data Scientist   \n",
       "12                              Senior Data Scientist   \n",
       "13      Immediate job opening - Senior Data Scientist   \n",
       "14                              Senior Data Scientist   \n",
       "15                              Senior Data Scientist   \n",
       "16                                Lead Data Scientist   \n",
       "17                                Lead Data Scientist   \n",
       "18  Data Scientist - Manufacturing Domain (SCM asp...   \n",
       "19              Chaayos is Looking For Data Scientist   \n",
       "\n",
       "                                   Company Name Experiance  \\\n",
       "0                                  AVE-Promagne   7-10 Yrs   \n",
       "1                                  AVE-Promagne   6-11 Yrs   \n",
       "2           Shell India Markets Private Limited    3-8 Yrs   \n",
       "3            Inflexion Analytix Private Limited    0-3 Yrs   \n",
       "4                          Next Bee Corporation   6-10 Yrs   \n",
       "5           Shell India Markets Private Limited    5-8 Yrs   \n",
       "6                                TalkValley LLC    0-5 Yrs   \n",
       "7                                  AVE-Promagne    6-8 Yrs   \n",
       "8                                  AVE-Promagne    2-4 Yrs   \n",
       "9   IntellectFaces Technology Solutions Pvt Ltd    0-5 Yrs   \n",
       "10           Jet2 Travel Technologies Pvt. Ltd.    0-2 Yrs   \n",
       "11                   AlgoAnalytics Private Ltd.    0-1 Yrs   \n",
       "12                                       RedBus    5-8 Yrs   \n",
       "13                                       RedBus    5-8 Yrs   \n",
       "14                            Fractal Analytics    5-9 Yrs   \n",
       "15       Neptune Financial Software Private Ltd    3-5 Yrs   \n",
       "16                                         FICO   6-11 Yrs   \n",
       "17                            Fractal Analytics  10-15 Yrs   \n",
       "18           Naukri Premium - Employer Services   7-12 Yrs   \n",
       "19        Chaayos (Sunshine Teahouse Pvt. Ltd.)    0-5 Yrs   \n",
       "\n",
       "                                         Job Location  \n",
       "0                                             Chennai  \n",
       "1                                             Chennai  \n",
       "2                                             Chennai  \n",
       "3   Mumbai, Hyderabad/Secunderabad, Pune, Gurgaon/...  \n",
       "4   Kolkata, Chandigarh, Hyderabad/Secunderabad, P...  \n",
       "5                                             Chennai  \n",
       "6           Kolkata, Bangalore/Bengaluru, Delhi / NCR  \n",
       "7                                             Chennai  \n",
       "8                                             Chennai  \n",
       "9                                             Chennai  \n",
       "10                                               Pune  \n",
       "11                                        Pune(Baner)  \n",
       "12                                Bangalore/Bengaluru  \n",
       "13                                Bangalore/Bengaluru  \n",
       "14      Mumbai, Gurgaon/Gurugram, Bangalore/Bengaluru  \n",
       "15                                            Chennai  \n",
       "16                                Bangalore/Bengaluru  \n",
       "17  Gurgaon/Gurugram, Bangalore/Bengaluru, Mumbai ...  \n",
       "18  Kolkata, Pune, Chennai, Bangalore/Bengaluru, D...  \n",
       "19                                          New Delhi  "
      ]
     },
     "execution_count": 41,
     "metadata": {},
     "output_type": "execute_result"
    }
   ],
   "source": [
    "Ds=pd.DataFrame({'Title':title_[:20],\"Company Name\":company_name[:20],\"Experiance\":exp_[:20],\"Job Location\":loc[:20]})\n",
    "Ds"
   ]
  },
  {
   "cell_type": "markdown",
   "metadata": {},
   "source": [
    "Write a python program to scrape data for “Data Scientist” Job position in\n",
    "“Bangalore” location. You have to scrape the job-title, job-location,\n",
    "company_name, full job-description. You have to scrape first 10 jobs data."
   ]
  },
  {
   "cell_type": "markdown",
   "metadata": {},
   "source": [
    "Already scraped the Job Title, Location, Company Name in this going to scrape only Job description"
   ]
  },
  {
   "cell_type": "raw",
   "metadata": {},
   "source": [
    "desc_url=[]\n",
    "desc_url_=driver.find_elements_by_xpath('//a[@class=\"title fw500 ellipsis\"]')\n",
    "for i in desc_url_:\n",
    "    desc_url.append(i.get_attribute(\"href\"))\n",
    "desc_url"
   ]
  },
  {
   "cell_type": "code",
   "execution_count": 42,
   "metadata": {},
   "outputs": [],
   "source": [
    "desc_url=[]\n",
    "for i in driver.find_elements_by_xpath('//a[@class=\"title fw500 ellipsis\"]'):\n",
    "    desc_url.append(i.get_attribute(\"href\"))\n"
   ]
  },
  {
   "cell_type": "code",
   "execution_count": 43,
   "metadata": {},
   "outputs": [
    {
     "data": {
      "text/plain": [
       "['https://www.naukri.com/job-listings-senior-data-scientist-lead-predictive-analytics-ave-promagne-chennai-7-to-10-years-140621900598?src=jobsearchDesk&sid=1623980145101472&xp=1&px=1']"
      ]
     },
     "execution_count": 43,
     "metadata": {},
     "output_type": "execute_result"
    }
   ],
   "source": [
    "desc_url[:1]"
   ]
  },
  {
   "cell_type": "code",
   "execution_count": 44,
   "metadata": {},
   "outputs": [],
   "source": [
    "job_desc=[]\n",
    "\n",
    "for i in desc_url[:20]:\n",
    "    driver.get(i)\n",
    "    time.sleep(3)\n",
    "    try:\n",
    "        job_desc_=driver.find_element_by_xpath(\"//section[@class='job-desc']\")\n",
    "        job_desc.append(job_desc_.text)\n",
    "    except NoSuchElementException:\n",
    "        job_desc.append(\"--\")"
   ]
  },
  {
   "cell_type": "code",
   "execution_count": 45,
   "metadata": {},
   "outputs": [
    {
     "data": {
      "text/plain": [
       "['Job description\\nKey Requirements\\nBe responsible for scaling our analytics capability across all internal disciplines and guide our strategic direction in regards to analytics\\nOrganize and analyze large, diverse data sets across multiple platforms\\nIdentify key insights and leverage them to inform and influence product strategy\\nTechnical Interactions with vendor or partners in technical capacity for scope/ approach & deliverables.\\nDevelops proof of concept to prove or disprove validity of concept\\nWorking with all parts of the business to identify analytical requirements and formalize an approach for reliable, relevant, accurate, efficient reporting on those requirements\\nDesigning and implementing advanced statistical testing for customized problem solving\\nDeliver concise verbal and written explanations of analyses to senior management that elevate findings into strategic recommendations.\\nKey Requirements\\nExperience with any industry with HR analytical projects / Experience with Credit Risk Analytics\\n4 years experience\\nSQL expertise, Strong in Python / R expertise, Strong in ML algorithms\\n\\nRoleAnalytics Manager\\nIndustry TypeIT Services & Consulting\\nFunctional AreaAnalytics & Business Intelligence\\nEmployment TypeFull Time, Permanent\\nRole CategoryAnalytics & BI\\nEducation\\nUG :Any Graduate in Any Specialization\\nPG :Any Postgraduate in Any Specialization\\nDoctorate :Doctorate Not Required\\nKey Skills\\nProduct StrategyRAlgorithmsRisk AnalyticsProblem SolvingCredit RiskSenior ManagementPredictive AnalyticsSQLPython']"
      ]
     },
     "execution_count": 45,
     "metadata": {},
     "output_type": "execute_result"
    }
   ],
   "source": [
    "job_desc[:1]"
   ]
  },
  {
   "cell_type": "code",
   "execution_count": 46,
   "metadata": {},
   "outputs": [
    {
     "data": {
      "text/html": [
       "<div>\n",
       "<style scoped>\n",
       "    .dataframe tbody tr th:only-of-type {\n",
       "        vertical-align: middle;\n",
       "    }\n",
       "\n",
       "    .dataframe tbody tr th {\n",
       "        vertical-align: top;\n",
       "    }\n",
       "\n",
       "    .dataframe thead th {\n",
       "        text-align: right;\n",
       "    }\n",
       "</style>\n",
       "<table border=\"1\" class=\"dataframe\">\n",
       "  <thead>\n",
       "    <tr style=\"text-align: right;\">\n",
       "      <th></th>\n",
       "      <th>Title</th>\n",
       "      <th>Company Name</th>\n",
       "      <th>Experiance</th>\n",
       "      <th>Job Location</th>\n",
       "      <th>Job Description</th>\n",
       "    </tr>\n",
       "  </thead>\n",
       "  <tbody>\n",
       "    <tr>\n",
       "      <th>0</th>\n",
       "      <td>Senior Data Scientist / Lead (Predictive Analy...</td>\n",
       "      <td>AVE-Promagne</td>\n",
       "      <td>7-10 Yrs</td>\n",
       "      <td>Chennai</td>\n",
       "      <td>Job description\\nKey Requirements\\nBe responsi...</td>\n",
       "    </tr>\n",
       "    <tr>\n",
       "      <th>1</th>\n",
       "      <td>Sr Data Scientist ( From Service Industry )</td>\n",
       "      <td>AVE-Promagne</td>\n",
       "      <td>6-11 Yrs</td>\n",
       "      <td>Chennai</td>\n",
       "      <td>Job description\\nAbout the role:\\nWe are looki...</td>\n",
       "    </tr>\n",
       "    <tr>\n",
       "      <th>2</th>\n",
       "      <td>Associate Data Scientist - Process Mining</td>\n",
       "      <td>Shell India Markets Private Limited</td>\n",
       "      <td>3-8 Yrs</td>\n",
       "      <td>Chennai</td>\n",
       "      <td>Job description\\nGeneral Position Definition\\n...</td>\n",
       "    </tr>\n",
       "    <tr>\n",
       "      <th>3</th>\n",
       "      <td>Data Scientist / Data Analyst -Business Analyst</td>\n",
       "      <td>Inflexion Analytix Private Limited</td>\n",
       "      <td>0-3 Yrs</td>\n",
       "      <td>Mumbai, Hyderabad/Secunderabad, Pune, Gurgaon/...</td>\n",
       "      <td>Job description\\nJob Role : Data Scientist/Dat...</td>\n",
       "    </tr>\n",
       "    <tr>\n",
       "      <th>4</th>\n",
       "      <td>Senior Data Scientist with Python</td>\n",
       "      <td>Next Bee Corporation</td>\n",
       "      <td>6-10 Yrs</td>\n",
       "      <td>Kolkata, Chandigarh, Hyderabad/Secunderabad, P...</td>\n",
       "      <td>Job description\\nRoles and Responsibilities:-\\...</td>\n",
       "    </tr>\n",
       "    <tr>\n",
       "      <th>5</th>\n",
       "      <td>Data Scientist - Process mining</td>\n",
       "      <td>Shell India Markets Private Limited</td>\n",
       "      <td>5-8 Yrs</td>\n",
       "      <td>Chennai</td>\n",
       "      <td>Job description\\nThe Role\\nGeneral Position De...</td>\n",
       "    </tr>\n",
       "    <tr>\n",
       "      <th>6</th>\n",
       "      <td>Data analytics / Data scientist intern (work f...</td>\n",
       "      <td>TalkValley LLC</td>\n",
       "      <td>0-5 Yrs</td>\n",
       "      <td>Kolkata, Bangalore/Bengaluru, Delhi / NCR</td>\n",
       "      <td>Job description\\nWe are a group of tenured pro...</td>\n",
       "    </tr>\n",
       "    <tr>\n",
       "      <th>7</th>\n",
       "      <td>Data Scientist (Predictive Modelling,Python)</td>\n",
       "      <td>AVE-Promagne</td>\n",
       "      <td>6-8 Yrs</td>\n",
       "      <td>Chennai</td>\n",
       "      <td>Job description\\nResponsibilities:\\n• Build an...</td>\n",
       "    </tr>\n",
       "    <tr>\n",
       "      <th>8</th>\n",
       "      <td>Data Scientist (Predictive Analytics)</td>\n",
       "      <td>AVE-Promagne</td>\n",
       "      <td>2-4 Yrs</td>\n",
       "      <td>Chennai</td>\n",
       "      <td>Job description\\nModeling Skills\\n• Deep exper...</td>\n",
       "    </tr>\n",
       "    <tr>\n",
       "      <th>9</th>\n",
       "      <td>Data Scientist</td>\n",
       "      <td>IntellectFaces Technology Solutions Pvt Ltd</td>\n",
       "      <td>0-5 Yrs</td>\n",
       "      <td>Chennai</td>\n",
       "      <td>Job description\\nPython/R (programming languag...</td>\n",
       "    </tr>\n",
       "    <tr>\n",
       "      <th>10</th>\n",
       "      <td>Data Science- Associate Data Scientist</td>\n",
       "      <td>Jet2 Travel Technologies Pvt. Ltd.</td>\n",
       "      <td>0-2 Yrs</td>\n",
       "      <td>Pune</td>\n",
       "      <td>Job description\\nRoles and Responsibilities\\nW...</td>\n",
       "    </tr>\n",
       "    <tr>\n",
       "      <th>11</th>\n",
       "      <td>Associate Data Scientist</td>\n",
       "      <td>AlgoAnalytics Private Ltd.</td>\n",
       "      <td>0-1 Yrs</td>\n",
       "      <td>Pune(Baner)</td>\n",
       "      <td>Job description\\nShould have a passion for ML ...</td>\n",
       "    </tr>\n",
       "    <tr>\n",
       "      <th>12</th>\n",
       "      <td>Senior Data Scientist</td>\n",
       "      <td>RedBus</td>\n",
       "      <td>5-8 Yrs</td>\n",
       "      <td>Bangalore/Bengaluru</td>\n",
       "      <td>--</td>\n",
       "    </tr>\n",
       "    <tr>\n",
       "      <th>13</th>\n",
       "      <td>Immediate job opening - Senior Data Scientist</td>\n",
       "      <td>RedBus</td>\n",
       "      <td>5-8 Yrs</td>\n",
       "      <td>Bangalore/Bengaluru</td>\n",
       "      <td>--</td>\n",
       "    </tr>\n",
       "    <tr>\n",
       "      <th>14</th>\n",
       "      <td>Senior Data Scientist</td>\n",
       "      <td>Fractal Analytics</td>\n",
       "      <td>5-9 Yrs</td>\n",
       "      <td>Mumbai, Gurgaon/Gurugram, Bangalore/Bengaluru</td>\n",
       "      <td>Job description\\nServe as primary technical le...</td>\n",
       "    </tr>\n",
       "    <tr>\n",
       "      <th>15</th>\n",
       "      <td>Senior Data Scientist</td>\n",
       "      <td>Neptune Financial Software Private Ltd</td>\n",
       "      <td>3-5 Yrs</td>\n",
       "      <td>Chennai</td>\n",
       "      <td>Job description\\nRoles and Responsibilities\\n\\...</td>\n",
       "    </tr>\n",
       "    <tr>\n",
       "      <th>16</th>\n",
       "      <td>Lead Data Scientist</td>\n",
       "      <td>FICO</td>\n",
       "      <td>6-11 Yrs</td>\n",
       "      <td>Bangalore/Bengaluru</td>\n",
       "      <td>Job description\\nJob Summary\\nThe candidate sh...</td>\n",
       "    </tr>\n",
       "    <tr>\n",
       "      <th>17</th>\n",
       "      <td>Lead Data Scientist</td>\n",
       "      <td>Fractal Analytics</td>\n",
       "      <td>10-15 Yrs</td>\n",
       "      <td>Gurgaon/Gurugram, Bangalore/Bengaluru, Mumbai ...</td>\n",
       "      <td>Job description\\nPosition Description:\\nThe Ar...</td>\n",
       "    </tr>\n",
       "    <tr>\n",
       "      <th>18</th>\n",
       "      <td>Data Scientist - Manufacturing Domain (SCM asp...</td>\n",
       "      <td>Naukri Premium - Employer Services</td>\n",
       "      <td>7-12 Yrs</td>\n",
       "      <td>Kolkata, Pune, Chennai, Bangalore/Bengaluru, D...</td>\n",
       "      <td>Job description\\nRoles and Responsibilities\\nR...</td>\n",
       "    </tr>\n",
       "    <tr>\n",
       "      <th>19</th>\n",
       "      <td>Chaayos is Looking For Data Scientist</td>\n",
       "      <td>Chaayos (Sunshine Teahouse Pvt. Ltd.)</td>\n",
       "      <td>0-5 Yrs</td>\n",
       "      <td>New Delhi</td>\n",
       "      <td>Job description\\nDescription - \"In god we trus...</td>\n",
       "    </tr>\n",
       "  </tbody>\n",
       "</table>\n",
       "</div>"
      ],
      "text/plain": [
       "                                                Title  \\\n",
       "0   Senior Data Scientist / Lead (Predictive Analy...   \n",
       "1         Sr Data Scientist ( From Service Industry )   \n",
       "2           Associate Data Scientist - Process Mining   \n",
       "3     Data Scientist / Data Analyst -Business Analyst   \n",
       "4                   Senior Data Scientist with Python   \n",
       "5                     Data Scientist - Process mining   \n",
       "6   Data analytics / Data scientist intern (work f...   \n",
       "7        Data Scientist (Predictive Modelling,Python)   \n",
       "8               Data Scientist (Predictive Analytics)   \n",
       "9                                      Data Scientist   \n",
       "10             Data Science- Associate Data Scientist   \n",
       "11                           Associate Data Scientist   \n",
       "12                              Senior Data Scientist   \n",
       "13      Immediate job opening - Senior Data Scientist   \n",
       "14                              Senior Data Scientist   \n",
       "15                              Senior Data Scientist   \n",
       "16                                Lead Data Scientist   \n",
       "17                                Lead Data Scientist   \n",
       "18  Data Scientist - Manufacturing Domain (SCM asp...   \n",
       "19              Chaayos is Looking For Data Scientist   \n",
       "\n",
       "                                   Company Name Experiance  \\\n",
       "0                                  AVE-Promagne   7-10 Yrs   \n",
       "1                                  AVE-Promagne   6-11 Yrs   \n",
       "2           Shell India Markets Private Limited    3-8 Yrs   \n",
       "3            Inflexion Analytix Private Limited    0-3 Yrs   \n",
       "4                          Next Bee Corporation   6-10 Yrs   \n",
       "5           Shell India Markets Private Limited    5-8 Yrs   \n",
       "6                                TalkValley LLC    0-5 Yrs   \n",
       "7                                  AVE-Promagne    6-8 Yrs   \n",
       "8                                  AVE-Promagne    2-4 Yrs   \n",
       "9   IntellectFaces Technology Solutions Pvt Ltd    0-5 Yrs   \n",
       "10           Jet2 Travel Technologies Pvt. Ltd.    0-2 Yrs   \n",
       "11                   AlgoAnalytics Private Ltd.    0-1 Yrs   \n",
       "12                                       RedBus    5-8 Yrs   \n",
       "13                                       RedBus    5-8 Yrs   \n",
       "14                            Fractal Analytics    5-9 Yrs   \n",
       "15       Neptune Financial Software Private Ltd    3-5 Yrs   \n",
       "16                                         FICO   6-11 Yrs   \n",
       "17                            Fractal Analytics  10-15 Yrs   \n",
       "18           Naukri Premium - Employer Services   7-12 Yrs   \n",
       "19        Chaayos (Sunshine Teahouse Pvt. Ltd.)    0-5 Yrs   \n",
       "\n",
       "                                         Job Location  \\\n",
       "0                                             Chennai   \n",
       "1                                             Chennai   \n",
       "2                                             Chennai   \n",
       "3   Mumbai, Hyderabad/Secunderabad, Pune, Gurgaon/...   \n",
       "4   Kolkata, Chandigarh, Hyderabad/Secunderabad, P...   \n",
       "5                                             Chennai   \n",
       "6           Kolkata, Bangalore/Bengaluru, Delhi / NCR   \n",
       "7                                             Chennai   \n",
       "8                                             Chennai   \n",
       "9                                             Chennai   \n",
       "10                                               Pune   \n",
       "11                                        Pune(Baner)   \n",
       "12                                Bangalore/Bengaluru   \n",
       "13                                Bangalore/Bengaluru   \n",
       "14      Mumbai, Gurgaon/Gurugram, Bangalore/Bengaluru   \n",
       "15                                            Chennai   \n",
       "16                                Bangalore/Bengaluru   \n",
       "17  Gurgaon/Gurugram, Bangalore/Bengaluru, Mumbai ...   \n",
       "18  Kolkata, Pune, Chennai, Bangalore/Bengaluru, D...   \n",
       "19                                          New Delhi   \n",
       "\n",
       "                                      Job Description  \n",
       "0   Job description\\nKey Requirements\\nBe responsi...  \n",
       "1   Job description\\nAbout the role:\\nWe are looki...  \n",
       "2   Job description\\nGeneral Position Definition\\n...  \n",
       "3   Job description\\nJob Role : Data Scientist/Dat...  \n",
       "4   Job description\\nRoles and Responsibilities:-\\...  \n",
       "5   Job description\\nThe Role\\nGeneral Position De...  \n",
       "6   Job description\\nWe are a group of tenured pro...  \n",
       "7   Job description\\nResponsibilities:\\n• Build an...  \n",
       "8   Job description\\nModeling Skills\\n• Deep exper...  \n",
       "9   Job description\\nPython/R (programming languag...  \n",
       "10  Job description\\nRoles and Responsibilities\\nW...  \n",
       "11  Job description\\nShould have a passion for ML ...  \n",
       "12                                                 --  \n",
       "13                                                 --  \n",
       "14  Job description\\nServe as primary technical le...  \n",
       "15  Job description\\nRoles and Responsibilities\\n\\...  \n",
       "16  Job description\\nJob Summary\\nThe candidate sh...  \n",
       "17  Job description\\nPosition Description:\\nThe Ar...  \n",
       "18  Job description\\nRoles and Responsibilities\\nR...  \n",
       "19  Job description\\nDescription - \"In god we trus...  "
      ]
     },
     "execution_count": 46,
     "metadata": {},
     "output_type": "execute_result"
    }
   ],
   "source": [
    "Dst=pd.DataFrame({'Title':title_[:20],\"Company Name\":company_name[:20],\"Experiance\":exp_[:20],\"Job Location\":loc[:20],\"Job Description\":job_desc[:20]})\n",
    "Dst"
   ]
  },
  {
   "cell_type": "markdown",
   "metadata": {},
   "source": [
    "Q3: In this question you have to scrape data using the filters available on the\n",
    "webpage as shown below"
   ]
  },
  {
   "cell_type": "code",
   "execution_count": 47,
   "metadata": {},
   "outputs": [],
   "source": [
    "driver=webdriver.Edge(\"msedgedriver.exe\")"
   ]
  },
  {
   "cell_type": "code",
   "execution_count": 48,
   "metadata": {},
   "outputs": [],
   "source": [
    "url='https://www.naukri.com/'\n",
    "driver.get(url)"
   ]
  },
  {
   "cell_type": "code",
   "execution_count": 49,
   "metadata": {},
   "outputs": [],
   "source": [
    "ds_job_title=[]\n",
    "ds_company_name=[]\n",
    "ds_location=[]\n",
    "ds_experience=[]\n",
    "ds_salary=[]\n",
    "    "
   ]
  },
  {
   "cell_type": "code",
   "execution_count": 50,
   "metadata": {},
   "outputs": [
    {
     "data": {
      "text/plain": [
       "<selenium.webdriver.remote.webelement.WebElement (session=\"c941ba713c179af1e85e2b4a18330762\", element=\"c817f9d0-16cd-4419-86e8-e4263423b53b\")>"
      ]
     },
     "execution_count": 50,
     "metadata": {},
     "output_type": "execute_result"
    }
   ],
   "source": [
    "search_job_=driver.find_element_by_id(\"qsb-keyword-sugg\")\n",
    "search_job_"
   ]
  },
  {
   "cell_type": "code",
   "execution_count": 51,
   "metadata": {},
   "outputs": [],
   "source": [
    "search_job_.send_keys(\"Data Scientist\")"
   ]
  },
  {
   "cell_type": "code",
   "execution_count": 52,
   "metadata": {},
   "outputs": [],
   "source": [
    "btn_click_=driver.find_element_by_xpath('//button[@class=\"btn\"]')\n",
    "btn_click_.click()\n"
   ]
  },
  {
   "cell_type": "code",
   "execution_count": 55,
   "metadata": {},
   "outputs": [],
   "source": [
    "delhi_ser=driver.find_element_by_xpath('//span[@title=\"Delhi / NCR\"]')\n",
    "delhi_ser.click()"
   ]
  },
  {
   "cell_type": "code",
   "execution_count": 56,
   "metadata": {},
   "outputs": [],
   "source": [
    "sal_fil=driver.find_element_by_xpath('//span[@title=\"3-6 Lakhs\"]')\n",
    "sal_fil.click()"
   ]
  },
  {
   "cell_type": "code",
   "execution_count": 60,
   "metadata": {},
   "outputs": [],
   "source": [
    "job_title_=job_titles=driver.find_elements_by_xpath('//a[@class=\"title fw500 ellipsis\"]')\n",
    "\n"
   ]
  },
  {
   "cell_type": "code",
   "execution_count": 71,
   "metadata": {},
   "outputs": [
    {
     "data": {
      "text/plain": [
       "['Data Scientist / Data Analyst -Business Analyst']"
      ]
     },
     "execution_count": 71,
     "metadata": {},
     "output_type": "execute_result"
    }
   ],
   "source": [
    "for i in job_title_:\n",
    "    ds_job_title.append(i.text)\n",
    "ds_job_title[:1]"
   ]
  },
  {
   "cell_type": "code",
   "execution_count": 62,
   "metadata": {},
   "outputs": [],
   "source": [
    "company_name_=driver.find_elements_by_xpath('//a[@class=\"subTitle ellipsis fleft\"]')\n"
   ]
  },
  {
   "cell_type": "code",
   "execution_count": 77,
   "metadata": {},
   "outputs": [],
   "source": [
    " for i in company_name_:\n",
    "        ds_company_name.append(i.text)"
   ]
  },
  {
   "cell_type": "code",
   "execution_count": 79,
   "metadata": {},
   "outputs": [],
   "source": [
    "location_=driver.find_elements_by_xpath('//li[@class=\"fleft grey-text br2 placeHolderLi location\"]')\n",
    "for i in location_:\n",
    "    ds_location.append(i.text)"
   ]
  },
  {
   "cell_type": "code",
   "execution_count": 73,
   "metadata": {},
   "outputs": [],
   "source": [
    "ds_experience_=[]\n",
    "experience_=driver.find_elements_by_xpath('//li[@class=\"fleft grey-text br2 placeHolderLi experience\"]')\n",
    "for i in experience_:\n",
    "    ds_experience_.append(i.text)"
   ]
  },
  {
   "cell_type": "code",
   "execution_count": 74,
   "metadata": {},
   "outputs": [],
   "source": [
    "salary_=driver.find_elements_by_xpath('//li[@class=\"fleft grey-text br2 placeHolderLi salary\"]')\n",
    "for i in salary_:\n",
    "        ds_salary.append(i.text)"
   ]
  },
  {
   "cell_type": "code",
   "execution_count": 80,
   "metadata": {},
   "outputs": [
    {
     "name": "stdout",
     "output_type": "stream",
     "text": [
      "40 20 20 20 20\n"
     ]
    }
   ],
   "source": [
    "print(len(ds_job_title),len(ds_company_name),len(ds_location),len(ds_experience_),len(ds_salary))"
   ]
  },
  {
   "cell_type": "code",
   "execution_count": 81,
   "metadata": {},
   "outputs": [],
   "source": [
    "ds3=pd.DataFrame({\"Job Title\":ds_job_title[:20],\"Company Name\":ds_company_name[:20],\"Location\":ds_location,\"Experiance\":ds_experience_,\"Salary\":ds_salary})"
   ]
  },
  {
   "cell_type": "code",
   "execution_count": 82,
   "metadata": {},
   "outputs": [
    {
     "data": {
      "text/html": [
       "<div>\n",
       "<style scoped>\n",
       "    .dataframe tbody tr th:only-of-type {\n",
       "        vertical-align: middle;\n",
       "    }\n",
       "\n",
       "    .dataframe tbody tr th {\n",
       "        vertical-align: top;\n",
       "    }\n",
       "\n",
       "    .dataframe thead th {\n",
       "        text-align: right;\n",
       "    }\n",
       "</style>\n",
       "<table border=\"1\" class=\"dataframe\">\n",
       "  <thead>\n",
       "    <tr style=\"text-align: right;\">\n",
       "      <th></th>\n",
       "      <th>Job Title</th>\n",
       "      <th>Company Name</th>\n",
       "      <th>Location</th>\n",
       "      <th>Experiance</th>\n",
       "      <th>Salary</th>\n",
       "    </tr>\n",
       "  </thead>\n",
       "  <tbody>\n",
       "    <tr>\n",
       "      <th>0</th>\n",
       "      <td>Data Scientist / Data Analyst -Business Analyst</td>\n",
       "      <td>Inflexion Analytix Private Limited</td>\n",
       "      <td>Mumbai, Hyderabad/Secunderabad, Pune, Gurgaon/...</td>\n",
       "      <td>0-3 Yrs</td>\n",
       "      <td>3,50,000 - 4,50,000 PA.</td>\n",
       "    </tr>\n",
       "    <tr>\n",
       "      <th>1</th>\n",
       "      <td>Data analytics / Data scientist intern (work f...</td>\n",
       "      <td>TalkValley LLC</td>\n",
       "      <td>Kolkata, Bangalore/Bengaluru, Delhi / NCR</td>\n",
       "      <td>0-5 Yrs</td>\n",
       "      <td>2,00,000 - 3,00,000 PA.</td>\n",
       "    </tr>\n",
       "    <tr>\n",
       "      <th>2</th>\n",
       "      <td>Chaayos is Looking For Data Scientist</td>\n",
       "      <td>Chaayos (Sunshine Teahouse Pvt. Ltd.)</td>\n",
       "      <td>New Delhi</td>\n",
       "      <td>0-5 Yrs</td>\n",
       "      <td>Not disclosed</td>\n",
       "    </tr>\n",
       "    <tr>\n",
       "      <th>3</th>\n",
       "      <td>Data Scientist</td>\n",
       "      <td>Fractal Analytics</td>\n",
       "      <td>Mumbai, Gurgaon/Gurugram, Bangalore/Bengaluru</td>\n",
       "      <td>3-7 Yrs</td>\n",
       "      <td>Not disclosed</td>\n",
       "    </tr>\n",
       "    <tr>\n",
       "      <th>4</th>\n",
       "      <td>Junior Data Scientist</td>\n",
       "      <td>R Systems International Ltd.</td>\n",
       "      <td>Noida(Sector-59 Noida)</td>\n",
       "      <td>3-5 Yrs</td>\n",
       "      <td>Not disclosed</td>\n",
       "    </tr>\n",
       "    <tr>\n",
       "      <th>5</th>\n",
       "      <td>We are hiring- Data Scientist +Python- Noida</td>\n",
       "      <td>RANDSTAD INDIA PVT LTD</td>\n",
       "      <td>Noida, Gurgaon/Gurugram, Delhi / NCR</td>\n",
       "      <td>4-7 Yrs</td>\n",
       "      <td>Not disclosed</td>\n",
       "    </tr>\n",
       "    <tr>\n",
       "      <th>6</th>\n",
       "      <td>Data Scientist</td>\n",
       "      <td>Milliman India Pvt Ltd</td>\n",
       "      <td>Gurgaon/Gurugram, Delhi / NCR</td>\n",
       "      <td>2-5 Yrs</td>\n",
       "      <td>Not disclosed</td>\n",
       "    </tr>\n",
       "    <tr>\n",
       "      <th>7</th>\n",
       "      <td>Data Scientist</td>\n",
       "      <td>NEC CORPORATION INDIA PRIVATE LIMITED</td>\n",
       "      <td>Noida</td>\n",
       "      <td>3-8 Yrs</td>\n",
       "      <td>Not disclosed</td>\n",
       "    </tr>\n",
       "    <tr>\n",
       "      <th>8</th>\n",
       "      <td>Data Analyst/Scientist Big Data, Statistical T...</td>\n",
       "      <td>The Search House (A Div of JSD Search House Pv...</td>\n",
       "      <td>Gurgaon/Gurugram</td>\n",
       "      <td>2-7 Yrs</td>\n",
       "      <td>5,00,000 - 8,00,000 PA.</td>\n",
       "    </tr>\n",
       "    <tr>\n",
       "      <th>9</th>\n",
       "      <td>Business Analyst- Data Scientist</td>\n",
       "      <td>Wipro</td>\n",
       "      <td>Noida, Gurgaon/Gurugram</td>\n",
       "      <td>2-5 Yrs</td>\n",
       "      <td>3,50,000 - 6,50,000 PA.</td>\n",
       "    </tr>\n",
       "    <tr>\n",
       "      <th>10</th>\n",
       "      <td>Data Engineers /Data Scientist - CES IT LTD - ...</td>\n",
       "      <td>CES Ltd.</td>\n",
       "      <td>Kolkata, Hyderabad/Secunderabad, Pune, Ahmedab...</td>\n",
       "      <td>3-5 Yrs</td>\n",
       "      <td>Not disclosed</td>\n",
       "    </tr>\n",
       "    <tr>\n",
       "      <th>11</th>\n",
       "      <td>Data Engineers /Data Scientist - CES IT LTD - ...</td>\n",
       "      <td>CES Ltd.</td>\n",
       "      <td>Kolkata, Hyderabad/Secunderabad, Pune, Ahmedab...</td>\n",
       "      <td>3-5 Yrs</td>\n",
       "      <td>Not disclosed</td>\n",
       "    </tr>\n",
       "    <tr>\n",
       "      <th>12</th>\n",
       "      <td>Data Scientist</td>\n",
       "      <td>Evalueserve.com Pvt. Ltd</td>\n",
       "      <td>Gurgaon/Gurugram</td>\n",
       "      <td>4-7 Yrs</td>\n",
       "      <td>Not disclosed</td>\n",
       "    </tr>\n",
       "    <tr>\n",
       "      <th>13</th>\n",
       "      <td>Senior Data Scientist</td>\n",
       "      <td>iNICU</td>\n",
       "      <td>Delhi</td>\n",
       "      <td>1-5 Yrs</td>\n",
       "      <td>Not disclosed</td>\n",
       "    </tr>\n",
       "    <tr>\n",
       "      <th>14</th>\n",
       "      <td>Data Scientist</td>\n",
       "      <td>BlackBuck</td>\n",
       "      <td>Gurgaon/Gurugram, Bangalore/Bengaluru</td>\n",
       "      <td>3-7 Yrs</td>\n",
       "      <td>Not disclosed</td>\n",
       "    </tr>\n",
       "    <tr>\n",
       "      <th>15</th>\n",
       "      <td>Data Scientist</td>\n",
       "      <td>Country Veggie</td>\n",
       "      <td>Bharuch, Jaipur, Bhopal, Mumbai, Jhansi, Nagpu...</td>\n",
       "      <td>1-3 Yrs</td>\n",
       "      <td>Not disclosed</td>\n",
       "    </tr>\n",
       "    <tr>\n",
       "      <th>16</th>\n",
       "      <td>Data Scientist</td>\n",
       "      <td>Mahajan Imaging</td>\n",
       "      <td>New Delhi</td>\n",
       "      <td>2-6 Yrs</td>\n",
       "      <td>Not disclosed</td>\n",
       "    </tr>\n",
       "    <tr>\n",
       "      <th>17</th>\n",
       "      <td>Data Scientist</td>\n",
       "      <td>Mahajan Imaging</td>\n",
       "      <td>Delhi</td>\n",
       "      <td>2-6 Yrs</td>\n",
       "      <td>Not disclosed</td>\n",
       "    </tr>\n",
       "    <tr>\n",
       "      <th>18</th>\n",
       "      <td>Associate Data Scientist</td>\n",
       "      <td>Right Step Consulting</td>\n",
       "      <td>Noida</td>\n",
       "      <td>3-6 Yrs</td>\n",
       "      <td>Not disclosed</td>\n",
       "    </tr>\n",
       "    <tr>\n",
       "      <th>19</th>\n",
       "      <td>Associate Data Scientist</td>\n",
       "      <td>Blow Trumpet Solutions</td>\n",
       "      <td>New Delhi</td>\n",
       "      <td>1-5 Yrs</td>\n",
       "      <td>Not disclosed</td>\n",
       "    </tr>\n",
       "  </tbody>\n",
       "</table>\n",
       "</div>"
      ],
      "text/plain": [
       "                                            Job Title  \\\n",
       "0     Data Scientist / Data Analyst -Business Analyst   \n",
       "1   Data analytics / Data scientist intern (work f...   \n",
       "2               Chaayos is Looking For Data Scientist   \n",
       "3                                      Data Scientist   \n",
       "4                               Junior Data Scientist   \n",
       "5        We are hiring- Data Scientist +Python- Noida   \n",
       "6                                      Data Scientist   \n",
       "7                                      Data Scientist   \n",
       "8   Data Analyst/Scientist Big Data, Statistical T...   \n",
       "9                    Business Analyst- Data Scientist   \n",
       "10  Data Engineers /Data Scientist - CES IT LTD - ...   \n",
       "11  Data Engineers /Data Scientist - CES IT LTD - ...   \n",
       "12                                     Data Scientist   \n",
       "13                              Senior Data Scientist   \n",
       "14                                     Data Scientist   \n",
       "15                                     Data Scientist   \n",
       "16                                     Data Scientist   \n",
       "17                                     Data Scientist   \n",
       "18                           Associate Data Scientist   \n",
       "19                           Associate Data Scientist   \n",
       "\n",
       "                                         Company Name  \\\n",
       "0                  Inflexion Analytix Private Limited   \n",
       "1                                      TalkValley LLC   \n",
       "2               Chaayos (Sunshine Teahouse Pvt. Ltd.)   \n",
       "3                                   Fractal Analytics   \n",
       "4                        R Systems International Ltd.   \n",
       "5                              RANDSTAD INDIA PVT LTD   \n",
       "6                              Milliman India Pvt Ltd   \n",
       "7               NEC CORPORATION INDIA PRIVATE LIMITED   \n",
       "8   The Search House (A Div of JSD Search House Pv...   \n",
       "9                                               Wipro   \n",
       "10                                           CES Ltd.   \n",
       "11                                           CES Ltd.   \n",
       "12                           Evalueserve.com Pvt. Ltd   \n",
       "13                                              iNICU   \n",
       "14                                          BlackBuck   \n",
       "15                                     Country Veggie   \n",
       "16                                    Mahajan Imaging   \n",
       "17                                    Mahajan Imaging   \n",
       "18                              Right Step Consulting   \n",
       "19                             Blow Trumpet Solutions   \n",
       "\n",
       "                                             Location Experiance  \\\n",
       "0   Mumbai, Hyderabad/Secunderabad, Pune, Gurgaon/...    0-3 Yrs   \n",
       "1           Kolkata, Bangalore/Bengaluru, Delhi / NCR    0-5 Yrs   \n",
       "2                                           New Delhi    0-5 Yrs   \n",
       "3       Mumbai, Gurgaon/Gurugram, Bangalore/Bengaluru    3-7 Yrs   \n",
       "4                              Noida(Sector-59 Noida)    3-5 Yrs   \n",
       "5                Noida, Gurgaon/Gurugram, Delhi / NCR    4-7 Yrs   \n",
       "6                       Gurgaon/Gurugram, Delhi / NCR    2-5 Yrs   \n",
       "7                                               Noida    3-8 Yrs   \n",
       "8                                    Gurgaon/Gurugram    2-7 Yrs   \n",
       "9                             Noida, Gurgaon/Gurugram    2-5 Yrs   \n",
       "10  Kolkata, Hyderabad/Secunderabad, Pune, Ahmedab...    3-5 Yrs   \n",
       "11  Kolkata, Hyderabad/Secunderabad, Pune, Ahmedab...    3-5 Yrs   \n",
       "12                                   Gurgaon/Gurugram    4-7 Yrs   \n",
       "13                                              Delhi    1-5 Yrs   \n",
       "14              Gurgaon/Gurugram, Bangalore/Bengaluru    3-7 Yrs   \n",
       "15  Bharuch, Jaipur, Bhopal, Mumbai, Jhansi, Nagpu...    1-3 Yrs   \n",
       "16                                          New Delhi    2-6 Yrs   \n",
       "17                                              Delhi    2-6 Yrs   \n",
       "18                                              Noida    3-6 Yrs   \n",
       "19                                          New Delhi    1-5 Yrs   \n",
       "\n",
       "                     Salary  \n",
       "0   3,50,000 - 4,50,000 PA.  \n",
       "1   2,00,000 - 3,00,000 PA.  \n",
       "2             Not disclosed  \n",
       "3             Not disclosed  \n",
       "4             Not disclosed  \n",
       "5             Not disclosed  \n",
       "6             Not disclosed  \n",
       "7             Not disclosed  \n",
       "8   5,00,000 - 8,00,000 PA.  \n",
       "9   3,50,000 - 6,50,000 PA.  \n",
       "10            Not disclosed  \n",
       "11            Not disclosed  \n",
       "12            Not disclosed  \n",
       "13            Not disclosed  \n",
       "14            Not disclosed  \n",
       "15            Not disclosed  \n",
       "16            Not disclosed  \n",
       "17            Not disclosed  \n",
       "18            Not disclosed  \n",
       "19            Not disclosed  "
      ]
     },
     "execution_count": 82,
     "metadata": {},
     "output_type": "execute_result"
    }
   ],
   "source": [
    "ds3"
   ]
  },
  {
   "cell_type": "markdown",
   "metadata": {},
   "source": [
    "Q4: Write a python program to scrape data for first 10 job results for Data scientist\n",
    "Designation in Noida location. You have to scrape company_name, No. of days\n",
    "ago when job was posted, Rating of the company."
   ]
  },
  {
   "cell_type": "code",
   "execution_count": 98,
   "metadata": {},
   "outputs": [],
   "source": [
    "driver=webdriver.Edge(\"msedgedriver.exe\")"
   ]
  },
  {
   "cell_type": "code",
   "execution_count": 99,
   "metadata": {},
   "outputs": [],
   "source": [
    "url='https://www.glassdoor.co.in/Salaries/index.htm'\n",
    "driver.get(url)"
   ]
  },
  {
   "cell_type": "code",
   "execution_count": 100,
   "metadata": {},
   "outputs": [],
   "source": [
    "g_search=driver.find_element_by_xpath('//button[@class=\"d-flex align-items-center justify-content-center order-1 order-md-2 mr-auto mr-md-0 p-0 LockedHomeHeaderStyles__signInButton\"]')\n",
    "g_search.click()"
   ]
  },
  {
   "cell_type": "code",
   "execution_count": 101,
   "metadata": {},
   "outputs": [],
   "source": [
    "driver.find_element_by_xpath('//input[@id=\"userEmail\"]').send_keys('my.number.is.9094419010@gmail.com')\n"
   ]
  },
  {
   "cell_type": "code",
   "execution_count": 102,
   "metadata": {},
   "outputs": [],
   "source": [
    "driver.find_element_by_xpath('//input[@id=\"userPassword\"]').send_keys('Jordan@123')"
   ]
  },
  {
   "cell_type": "code",
   "execution_count": 103,
   "metadata": {},
   "outputs": [],
   "source": [
    "click_=driver.find_element_by_xpath('//button[@class=\"gd-ui-button minWidthBtn css-8i7bc2\"]')\n",
    "click_.click()"
   ]
  },
  {
   "cell_type": "code",
   "execution_count": 104,
   "metadata": {},
   "outputs": [],
   "source": [
    "driver.find_element_by_xpath('//input[@class=\"keyword\"]').send_keys('Data Scientist')"
   ]
  },
  {
   "cell_type": "code",
   "execution_count": 105,
   "metadata": {},
   "outputs": [],
   "source": [
    "driver.find_element_by_xpath('//input[@class=\"loc\"]').send_keys('Noida (India)')\n"
   ]
  },
  {
   "cell_type": "code",
   "execution_count": 106,
   "metadata": {},
   "outputs": [],
   "source": [
    "driver.find_element_by_xpath('//button[@class=\"gd-btn-mkt\"]').click()"
   ]
  },
  {
   "cell_type": "code",
   "execution_count": 111,
   "metadata": {},
   "outputs": [
    {
     "data": {
      "text/plain": [
       "[<selenium.webdriver.remote.webelement.WebElement (session=\"8f51140f2f254c23811ac374576c4494\", element=\"e1b7cbc6-9bc6-4330-94b2-2bf5536aa8b7\")>]"
      ]
     },
     "execution_count": 111,
     "metadata": {},
     "output_type": "execute_result"
    }
   ],
   "source": [
    "j_title_=driver.find_elements_by_xpath('//div[@class=\"col-12 col-lg px-xsm\"]')\n",
    "j_title_[:1]   "
   ]
  },
  {
   "cell_type": "code",
   "execution_count": 112,
   "metadata": {},
   "outputs": [],
   "source": [
    "j_title=[]\n",
    "for i in j_title_:\n",
    "    j_title.append(i.text.replace(\"- Monthly\",\"\"))"
   ]
  },
  {
   "cell_type": "code",
   "execution_count": 113,
   "metadata": {},
   "outputs": [],
   "source": [
    "j_company_=driver.find_elements_by_xpath('//a[@class=\"css-f3vw95 e1aj7ssy3\"]')\n"
   ]
  },
  {
   "cell_type": "code",
   "execution_count": 114,
   "metadata": {},
   "outputs": [
    {
     "data": {
      "text/plain": [
       "['Tata Consultancy Services']"
      ]
     },
     "execution_count": 114,
     "metadata": {},
     "output_type": "execute_result"
    }
   ],
   "source": [
    "j_company=[]\n",
    "for i in j_company_:\n",
    "    j_company.append(i.text)\n",
    "j_company[:1]"
   ]
  },
  {
   "cell_type": "code",
   "execution_count": 115,
   "metadata": {},
   "outputs": [],
   "source": [
    "j_salary_=driver.find_elements_by_xpath('//div[@class=\"col-12 col-lg-4 px-lg-0 d-flex align-items-baseline\"]')\n"
   ]
  },
  {
   "cell_type": "code",
   "execution_count": 116,
   "metadata": {},
   "outputs": [
    {
     "data": {
      "text/plain": [
       "['₹6,15,289 /yr']"
      ]
     },
     "execution_count": 116,
     "metadata": {},
     "output_type": "execute_result"
    }
   ],
   "source": [
    "j_salary=[]\n",
    "for i in j_salary_:\n",
    "    j_salary.append(i.text.replace(\"\\n\",\"\"))\n",
    "j_salary[:1]"
   ]
  },
  {
   "cell_type": "code",
   "execution_count": 118,
   "metadata": {},
   "outputs": [],
   "source": [
    "j_review_=driver.find_elements_by_xpath('//span[@class=\"m-0 css-kyx745\"]')\n",
    "\n"
   ]
  },
  {
   "cell_type": "code",
   "execution_count": 119,
   "metadata": {},
   "outputs": [
    {
     "data": {
      "text/plain": [
       "['3.9']"
      ]
     },
     "execution_count": 119,
     "metadata": {},
     "output_type": "execute_result"
    }
   ],
   "source": [
    "j_review=[]\n",
    "for i in j_review_:\n",
    "    j_review.append(i.text)\n",
    "j_review[:1]"
   ]
  },
  {
   "cell_type": "markdown",
   "metadata": {},
   "source": [
    "# Since I couldn't find \"No. of days ago when job was posted\" in the Glass door  page I have not scraped that one"
   ]
  },
  {
   "cell_type": "code",
   "execution_count": 120,
   "metadata": {},
   "outputs": [
    {
     "name": "stdout",
     "output_type": "stream",
     "text": [
      "20 20 20 20\n"
     ]
    }
   ],
   "source": [
    "print(len(j_title),len(j_company),len(j_salary),len(j_review))"
   ]
  },
  {
   "cell_type": "code",
   "execution_count": 121,
   "metadata": {},
   "outputs": [],
   "source": [
    "j_glassdoor=pd.DataFrame({\"Company Name\":j_company,\"Job Title\":j_title[:20],\"Salary\":j_salary,\"Review\":j_review})"
   ]
  },
  {
   "cell_type": "code",
   "execution_count": 122,
   "metadata": {},
   "outputs": [
    {
     "data": {
      "text/html": [
       "<div>\n",
       "<style scoped>\n",
       "    .dataframe tbody tr th:only-of-type {\n",
       "        vertical-align: middle;\n",
       "    }\n",
       "\n",
       "    .dataframe tbody tr th {\n",
       "        vertical-align: top;\n",
       "    }\n",
       "\n",
       "    .dataframe thead th {\n",
       "        text-align: right;\n",
       "    }\n",
       "</style>\n",
       "<table border=\"1\" class=\"dataframe\">\n",
       "  <thead>\n",
       "    <tr style=\"text-align: right;\">\n",
       "      <th></th>\n",
       "      <th>Company Name</th>\n",
       "      <th>Job Title</th>\n",
       "      <th>Salary</th>\n",
       "      <th>Review</th>\n",
       "    </tr>\n",
       "  </thead>\n",
       "  <tbody>\n",
       "    <tr>\n",
       "      <th>0</th>\n",
       "      <td>Tata Consultancy Services</td>\n",
       "      <td>Data Scientist</td>\n",
       "      <td>₹6,15,289 /yr</td>\n",
       "      <td>3.9</td>\n",
       "    </tr>\n",
       "    <tr>\n",
       "      <th>1</th>\n",
       "      <td>IBM</td>\n",
       "      <td>Data Scientist</td>\n",
       "      <td>₹9,00,000 /yr</td>\n",
       "      <td>3.9</td>\n",
       "    </tr>\n",
       "    <tr>\n",
       "      <th>2</th>\n",
       "      <td>Accenture</td>\n",
       "      <td>Data Scientist</td>\n",
       "      <td>₹11,48,366 /yr</td>\n",
       "      <td>4</td>\n",
       "    </tr>\n",
       "    <tr>\n",
       "      <th>3</th>\n",
       "      <td>Ericsson-Worldwide</td>\n",
       "      <td>Data Scientist</td>\n",
       "      <td>₹x,xx,xxx /yr</td>\n",
       "      <td>4</td>\n",
       "    </tr>\n",
       "    <tr>\n",
       "      <th>4</th>\n",
       "      <td>Delhivery</td>\n",
       "      <td>Data Scientist</td>\n",
       "      <td>₹xx,xx,xxx /yr</td>\n",
       "      <td>3.8</td>\n",
       "    </tr>\n",
       "    <tr>\n",
       "      <th>5</th>\n",
       "      <td>UnitedHealth Group</td>\n",
       "      <td>Data Scientist</td>\n",
       "      <td>₹xx,xx,xxx /yr</td>\n",
       "      <td>3.7</td>\n",
       "    </tr>\n",
       "    <tr>\n",
       "      <th>6</th>\n",
       "      <td>Optum Global Solutions</td>\n",
       "      <td>Data Scientist</td>\n",
       "      <td>₹xx,xx,xxx /yr</td>\n",
       "      <td>3.9</td>\n",
       "    </tr>\n",
       "    <tr>\n",
       "      <th>7</th>\n",
       "      <td>Valiance Solutions</td>\n",
       "      <td>Data Scientist</td>\n",
       "      <td>₹x,xx,xxx /yr</td>\n",
       "      <td>4.1</td>\n",
       "    </tr>\n",
       "    <tr>\n",
       "      <th>8</th>\n",
       "      <td>ZS Associates</td>\n",
       "      <td>Data Scientist</td>\n",
       "      <td>₹xx,xx,xxx /yr</td>\n",
       "      <td>4</td>\n",
       "    </tr>\n",
       "    <tr>\n",
       "      <th>9</th>\n",
       "      <td>EXL Service</td>\n",
       "      <td>Data Scientist</td>\n",
       "      <td>₹xx,xx,xxx /yr</td>\n",
       "      <td>3.6</td>\n",
       "    </tr>\n",
       "    <tr>\n",
       "      <th>10</th>\n",
       "      <td>Innovaccer</td>\n",
       "      <td>Data Scientist</td>\n",
       "      <td>₹xx,xx,xxx /yr</td>\n",
       "      <td>3.8</td>\n",
       "    </tr>\n",
       "    <tr>\n",
       "      <th>11</th>\n",
       "      <td>Optum</td>\n",
       "      <td>Data Scientist</td>\n",
       "      <td>₹xx,xx,xxx /yr</td>\n",
       "      <td>3.6</td>\n",
       "    </tr>\n",
       "    <tr>\n",
       "      <th>12</th>\n",
       "      <td>Cognizant Technology Solutions</td>\n",
       "      <td>Data Scientist</td>\n",
       "      <td>₹xx,xx,xxx /yr</td>\n",
       "      <td>3.8</td>\n",
       "    </tr>\n",
       "    <tr>\n",
       "      <th>13</th>\n",
       "      <td>dunnhumby</td>\n",
       "      <td>Data Scientist</td>\n",
       "      <td>₹xx,xx,xxx /yr</td>\n",
       "      <td>4.1</td>\n",
       "    </tr>\n",
       "    <tr>\n",
       "      <th>14</th>\n",
       "      <td>Vidooly Media Tech</td>\n",
       "      <td>Data Scientist</td>\n",
       "      <td>₹xx,xxx /mo</td>\n",
       "      <td>3.7</td>\n",
       "    </tr>\n",
       "    <tr>\n",
       "      <th>15</th>\n",
       "      <td>Tech Mahindra</td>\n",
       "      <td>Data Scientist</td>\n",
       "      <td>₹xx,xx,xxx /yr</td>\n",
       "      <td>3.6</td>\n",
       "    </tr>\n",
       "    <tr>\n",
       "      <th>16</th>\n",
       "      <td>OYO</td>\n",
       "      <td>Data Scientist</td>\n",
       "      <td>₹xx,xx,xxx /yr</td>\n",
       "      <td>3.2</td>\n",
       "    </tr>\n",
       "    <tr>\n",
       "      <th>17</th>\n",
       "      <td>Nagarro</td>\n",
       "      <td>Data Scientist</td>\n",
       "      <td>₹x,xx,xxx /yr</td>\n",
       "      <td>4</td>\n",
       "    </tr>\n",
       "    <tr>\n",
       "      <th>18</th>\n",
       "      <td>R Systems</td>\n",
       "      <td>Data Scientist</td>\n",
       "      <td>₹xx,xx,xxx /yr</td>\n",
       "      <td>3.6</td>\n",
       "    </tr>\n",
       "    <tr>\n",
       "      <th>19</th>\n",
       "      <td>CARS24.com</td>\n",
       "      <td>Data Scientist</td>\n",
       "      <td>₹xx,xx,xxx /yr</td>\n",
       "      <td>4.2</td>\n",
       "    </tr>\n",
       "  </tbody>\n",
       "</table>\n",
       "</div>"
      ],
      "text/plain": [
       "                      Company Name        Job Title          Salary Review\n",
       "0        Tata Consultancy Services   Data Scientist   ₹6,15,289 /yr    3.9\n",
       "1                              IBM   Data Scientist   ₹9,00,000 /yr    3.9\n",
       "2                        Accenture   Data Scientist  ₹11,48,366 /yr      4\n",
       "3               Ericsson-Worldwide   Data Scientist   ₹x,xx,xxx /yr      4\n",
       "4                        Delhivery   Data Scientist  ₹xx,xx,xxx /yr    3.8\n",
       "5               UnitedHealth Group   Data Scientist  ₹xx,xx,xxx /yr    3.7\n",
       "6           Optum Global Solutions   Data Scientist  ₹xx,xx,xxx /yr    3.9\n",
       "7               Valiance Solutions   Data Scientist   ₹x,xx,xxx /yr    4.1\n",
       "8                    ZS Associates   Data Scientist  ₹xx,xx,xxx /yr      4\n",
       "9                      EXL Service   Data Scientist  ₹xx,xx,xxx /yr    3.6\n",
       "10                      Innovaccer   Data Scientist  ₹xx,xx,xxx /yr    3.8\n",
       "11                           Optum   Data Scientist  ₹xx,xx,xxx /yr    3.6\n",
       "12  Cognizant Technology Solutions   Data Scientist  ₹xx,xx,xxx /yr    3.8\n",
       "13                       dunnhumby   Data Scientist  ₹xx,xx,xxx /yr    4.1\n",
       "14              Vidooly Media Tech  Data Scientist      ₹xx,xxx /mo    3.7\n",
       "15                   Tech Mahindra   Data Scientist  ₹xx,xx,xxx /yr    3.6\n",
       "16                             OYO   Data Scientist  ₹xx,xx,xxx /yr    3.2\n",
       "17                         Nagarro   Data Scientist   ₹x,xx,xxx /yr      4\n",
       "18                       R Systems   Data Scientist  ₹xx,xx,xxx /yr    3.6\n",
       "19                      CARS24.com   Data Scientist  ₹xx,xx,xxx /yr    4.2"
      ]
     },
     "execution_count": 122,
     "metadata": {},
     "output_type": "execute_result"
    }
   ],
   "source": [
    "j_glassdoor"
   ]
  },
  {
   "cell_type": "markdown",
   "metadata": {},
   "source": [
    "Q5: Write a python program to scrape the salary data for Data Scientist designation\n",
    "in Noida location."
   ]
  },
  {
   "cell_type": "code",
   "execution_count": 124,
   "metadata": {},
   "outputs": [
    {
     "data": {
      "text/plain": [
       "['17 salaries',\n",
       " '15 salaries',\n",
       " '14 salaries',\n",
       " '14 salaries',\n",
       " '14 salaries',\n",
       " '11 salaries',\n",
       " '9 salaries',\n",
       " '9 salaries',\n",
       " '8 salaries',\n",
       " '8 salaries',\n",
       " '8 salaries',\n",
       " '7 salaries',\n",
       " '6 salaries',\n",
       " '6 salaries',\n",
       " '6 salaries',\n",
       " '5 salaries',\n",
       " '5 salaries',\n",
       " '5 salaries',\n",
       " '5 salaries',\n",
       " '5 salaries']"
      ]
     },
     "execution_count": 124,
     "metadata": {},
     "output_type": "execute_result"
    }
   ],
   "source": [
    "no_of_sal=[]\n",
    "no_of_sal_=driver.find_elements_by_xpath('//div[@class=\"col-12 col-lg-auto\"]')\n",
    "for i in no_of_sal_:\n",
    "    no_of_sal.append(i.text)\n",
    "no_of_sal"
   ]
  },
  {
   "cell_type": "code",
   "execution_count": 132,
   "metadata": {},
   "outputs": [],
   "source": [
    "min_sal=[]\n",
    "min_sal_=driver.find_elements_by_xpath('//div[@class=\"d-flex mt-xxsm css-79elbk epuxyqn0\"]/p')\n",
    "for i in range (0,len(min_sal_),2):\n",
    "    min_sal.append(min_sal_[i].text)\n"
   ]
  },
  {
   "cell_type": "code",
   "execution_count": 136,
   "metadata": {},
   "outputs": [],
   "source": [
    "max_sal=[]\n",
    "for i in range (1,len(min_sal_),2):\n",
    "    max_sal.append(min_sal_[i].text)\n",
    "\n"
   ]
  },
  {
   "cell_type": "code",
   "execution_count": 138,
   "metadata": {},
   "outputs": [],
   "source": [
    "\n",
    "j_sal=pd.DataFrame({\"Company Name\":j_company[:10],\"No of Salary\":no_of_sal[:10],\"Salary\":j_salary[:10],\"Minimum Salary\":min_sal[:10],\"Maximum Salary\":max_sal[:10]})"
   ]
  },
  {
   "cell_type": "code",
   "execution_count": 139,
   "metadata": {},
   "outputs": [
    {
     "data": {
      "text/html": [
       "<div>\n",
       "<style scoped>\n",
       "    .dataframe tbody tr th:only-of-type {\n",
       "        vertical-align: middle;\n",
       "    }\n",
       "\n",
       "    .dataframe tbody tr th {\n",
       "        vertical-align: top;\n",
       "    }\n",
       "\n",
       "    .dataframe thead th {\n",
       "        text-align: right;\n",
       "    }\n",
       "</style>\n",
       "<table border=\"1\" class=\"dataframe\">\n",
       "  <thead>\n",
       "    <tr style=\"text-align: right;\">\n",
       "      <th></th>\n",
       "      <th>Company Name</th>\n",
       "      <th>No of Salary</th>\n",
       "      <th>Salary</th>\n",
       "      <th>Minimum Salary</th>\n",
       "      <th>Maximum Salary</th>\n",
       "    </tr>\n",
       "  </thead>\n",
       "  <tbody>\n",
       "    <tr>\n",
       "      <th>0</th>\n",
       "      <td>Tata Consultancy Services</td>\n",
       "      <td>17 salaries</td>\n",
       "      <td>₹6,15,289 /yr</td>\n",
       "      <td>₹3L</td>\n",
       "      <td>₹13L</td>\n",
       "    </tr>\n",
       "    <tr>\n",
       "      <th>1</th>\n",
       "      <td>IBM</td>\n",
       "      <td>15 salaries</td>\n",
       "      <td>₹9,00,000 /yr</td>\n",
       "      <td>₹3L</td>\n",
       "      <td>₹13L</td>\n",
       "    </tr>\n",
       "    <tr>\n",
       "      <th>2</th>\n",
       "      <td>Accenture</td>\n",
       "      <td>14 salaries</td>\n",
       "      <td>₹11,48,366 /yr</td>\n",
       "      <td>₹6L</td>\n",
       "      <td>₹27L</td>\n",
       "    </tr>\n",
       "    <tr>\n",
       "      <th>3</th>\n",
       "      <td>Ericsson-Worldwide</td>\n",
       "      <td>14 salaries</td>\n",
       "      <td>₹x,xx,xxx /yr</td>\n",
       "      <td>₹6L</td>\n",
       "      <td>₹22L</td>\n",
       "    </tr>\n",
       "    <tr>\n",
       "      <th>4</th>\n",
       "      <td>Delhivery</td>\n",
       "      <td>14 salaries</td>\n",
       "      <td>₹xx,xx,xxx /yr</td>\n",
       "      <td>₹xL</td>\n",
       "      <td>₹xxL</td>\n",
       "    </tr>\n",
       "    <tr>\n",
       "      <th>5</th>\n",
       "      <td>UnitedHealth Group</td>\n",
       "      <td>11 salaries</td>\n",
       "      <td>₹xx,xx,xxx /yr</td>\n",
       "      <td>₹xL</td>\n",
       "      <td>₹xCr</td>\n",
       "    </tr>\n",
       "    <tr>\n",
       "      <th>6</th>\n",
       "      <td>Optum Global Solutions</td>\n",
       "      <td>9 salaries</td>\n",
       "      <td>₹xx,xx,xxx /yr</td>\n",
       "      <td>₹xxL</td>\n",
       "      <td>₹xxL</td>\n",
       "    </tr>\n",
       "    <tr>\n",
       "      <th>7</th>\n",
       "      <td>Valiance Solutions</td>\n",
       "      <td>9 salaries</td>\n",
       "      <td>₹x,xx,xxx /yr</td>\n",
       "      <td>₹xL</td>\n",
       "      <td>₹xxL</td>\n",
       "    </tr>\n",
       "    <tr>\n",
       "      <th>8</th>\n",
       "      <td>ZS Associates</td>\n",
       "      <td>8 salaries</td>\n",
       "      <td>₹xx,xx,xxx /yr</td>\n",
       "      <td>₹xL</td>\n",
       "      <td>₹xxL</td>\n",
       "    </tr>\n",
       "    <tr>\n",
       "      <th>9</th>\n",
       "      <td>EXL Service</td>\n",
       "      <td>8 salaries</td>\n",
       "      <td>₹xx,xx,xxx /yr</td>\n",
       "      <td>₹xL</td>\n",
       "      <td>₹xxL</td>\n",
       "    </tr>\n",
       "  </tbody>\n",
       "</table>\n",
       "</div>"
      ],
      "text/plain": [
       "                Company Name No of Salary          Salary Minimum Salary  \\\n",
       "0  Tata Consultancy Services  17 salaries   ₹6,15,289 /yr            ₹3L   \n",
       "1                        IBM  15 salaries   ₹9,00,000 /yr            ₹3L   \n",
       "2                  Accenture  14 salaries  ₹11,48,366 /yr            ₹6L   \n",
       "3         Ericsson-Worldwide  14 salaries   ₹x,xx,xxx /yr            ₹6L   \n",
       "4                  Delhivery  14 salaries  ₹xx,xx,xxx /yr            ₹xL   \n",
       "5         UnitedHealth Group  11 salaries  ₹xx,xx,xxx /yr            ₹xL   \n",
       "6     Optum Global Solutions   9 salaries  ₹xx,xx,xxx /yr           ₹xxL   \n",
       "7         Valiance Solutions   9 salaries   ₹x,xx,xxx /yr            ₹xL   \n",
       "8              ZS Associates   8 salaries  ₹xx,xx,xxx /yr            ₹xL   \n",
       "9                EXL Service   8 salaries  ₹xx,xx,xxx /yr            ₹xL   \n",
       "\n",
       "  Maximum Salary  \n",
       "0           ₹13L  \n",
       "1           ₹13L  \n",
       "2           ₹27L  \n",
       "3           ₹22L  \n",
       "4           ₹xxL  \n",
       "5           ₹xCr  \n",
       "6           ₹xxL  \n",
       "7           ₹xxL  \n",
       "8           ₹xxL  \n",
       "9           ₹xxL  "
      ]
     },
     "execution_count": 139,
     "metadata": {},
     "output_type": "execute_result"
    }
   ],
   "source": [
    "j_sal"
   ]
  },
  {
   "cell_type": "markdown",
   "metadata": {},
   "source": [
    "Q6 : Scrape data of first 100 sunglasses listings on flipkart.com. You have to\n",
    "scrape four attributes:"
   ]
  },
  {
   "cell_type": "code",
   "execution_count": 153,
   "metadata": {},
   "outputs": [],
   "source": [
    "brand=[]\n",
    "product_des=[]\n",
    "price=[]\n",
    "discount=[]"
   ]
  },
  {
   "cell_type": "code",
   "execution_count": 142,
   "metadata": {},
   "outputs": [],
   "source": [
    "driver=webdriver.Edge(\"msedgedriver.exe\")"
   ]
  },
  {
   "cell_type": "code",
   "execution_count": 143,
   "metadata": {},
   "outputs": [],
   "source": [
    "url='https://www.flipkart.com/'\n",
    "driver.get(url)"
   ]
  },
  {
   "cell_type": "code",
   "execution_count": 144,
   "metadata": {},
   "outputs": [],
   "source": [
    "driver.find_element_by_xpath('//button[@class=\"_2KpZ6l _2doB4z\"]').click()"
   ]
  },
  {
   "cell_type": "code",
   "execution_count": 149,
   "metadata": {},
   "outputs": [],
   "source": [
    "driver.find_element_by_xpath('//input[@class=\"_3704LK\"]').send_keys(\"Sunglasses\")"
   ]
  },
  {
   "cell_type": "code",
   "execution_count": 150,
   "metadata": {},
   "outputs": [],
   "source": [
    "driver.find_element_by_xpath('//button[@class=\"L0Z3Pu\"]').click()"
   ]
  },
  {
   "cell_type": "code",
   "execution_count": 194,
   "metadata": {},
   "outputs": [],
   "source": [
    "brand_=driver.find_elements_by_xpath('//div[@class=\"_2WkVRV\"]')\n",
    "for i in brand_:\n",
    "    brand.append(i.text)\n",
    "    "
   ]
  },
  {
   "cell_type": "code",
   "execution_count": 157,
   "metadata": {},
   "outputs": [],
   "source": [
    "brand_url=[]\n",
    "for i in driver.find_elements_by_xpath('//a[@class=\"ge-49M\"]'):\n",
    "    brand_url.append(i.get_attribute(\"href\"))\n"
   ]
  },
  {
   "cell_type": "code",
   "execution_count": 164,
   "metadata": {},
   "outputs": [],
   "source": [
    "brands=[]\n",
    "for i in brand_url[:3]:\n",
    "    driver.get(i)\n",
    "    brands_=driver.find_elements_by_xpath('//div[@class=\"_2WkVRV\"]')\n",
    "    for i in brands_:\n",
    "        brands.append(i.text)"
   ]
  },
  {
   "cell_type": "code",
   "execution_count": 165,
   "metadata": {},
   "outputs": [
    {
     "data": {
      "text/plain": [
       "120"
      ]
     },
     "execution_count": 165,
     "metadata": {},
     "output_type": "execute_result"
    }
   ],
   "source": [
    "len(brands)"
   ]
  },
  {
   "cell_type": "code",
   "execution_count": 179,
   "metadata": {},
   "outputs": [],
   "source": [
    "product_url=[]\n",
    "for i in driver.find_elements_by_xpath('//div[@class=\"_1xHGtK _373qXS\"]'):\n",
    "    product_url.append(i.get_attribute(\"href\"))"
   ]
  },
  {
   "cell_type": "code",
   "execution_count": 183,
   "metadata": {},
   "outputs": [],
   "source": [
    "product_desc=[]\n",
    "for i in brand_url[:3]:\n",
    "    driver.get(i)\n",
    "    product_des_=driver.find_elements_by_xpath('//a[@class=\"IRpwTa\"]')\n",
    "    for i in product_des_:\n",
    "        product_desc.append(i.text)\n",
    "    "
   ]
  },
  {
   "cell_type": "code",
   "execution_count": 184,
   "metadata": {},
   "outputs": [
    {
     "data": {
      "text/plain": [
       "120"
      ]
     },
     "execution_count": 184,
     "metadata": {},
     "output_type": "execute_result"
    }
   ],
   "source": [
    "len(product_desc)         "
   ]
  },
  {
   "cell_type": "code",
   "execution_count": 190,
   "metadata": {},
   "outputs": [],
   "source": [
    "for i in brand_url[:3]:\n",
    "    driver.get(i)\n",
    "    price_=driver.find_elements_by_xpath('//div[@class=\"_30jeq3\"]')\n",
    "    for i in price_:\n",
    "        price.append(i.text)"
   ]
  },
  {
   "cell_type": "code",
   "execution_count": 191,
   "metadata": {},
   "outputs": [
    {
     "data": {
      "text/plain": [
       "120"
      ]
     },
     "execution_count": 191,
     "metadata": {},
     "output_type": "execute_result"
    }
   ],
   "source": [
    "len(price)      "
   ]
  },
  {
   "cell_type": "code",
   "execution_count": 192,
   "metadata": {},
   "outputs": [],
   "source": [
    "for i in brand_url[:3]:\n",
    "    driver.get(i)\n",
    "    discount_=driver.find_elements_by_xpath('//div[@class=\"_3Ay6Sb\"]')\n",
    "    for i in discount_:\n",
    "        discount.append(i.text)"
   ]
  },
  {
   "cell_type": "code",
   "execution_count": 193,
   "metadata": {},
   "outputs": [
    {
     "data": {
      "text/plain": [
       "120"
      ]
     },
     "execution_count": 193,
     "metadata": {},
     "output_type": "execute_result"
    }
   ],
   "source": [
    "len(discount)      "
   ]
  },
  {
   "cell_type": "code",
   "execution_count": 197,
   "metadata": {},
   "outputs": [],
   "source": [
    "act_price=[]\n",
    "for i in brand_url[:3]:\n",
    "    driver.get(i)\n",
    "    act_price_=driver.find_elements_by_xpath('//div[@ class=\"_3I9_wc\"]')\n",
    "    for i in act_price_:\n",
    "        act_price.append(i.text)"
   ]
  },
  {
   "cell_type": "code",
   "execution_count": 198,
   "metadata": {},
   "outputs": [
    {
     "data": {
      "text/plain": [
       "120"
      ]
     },
     "execution_count": 198,
     "metadata": {},
     "output_type": "execute_result"
    }
   ],
   "source": [
    "len(act_price)"
   ]
  },
  {
   "cell_type": "code",
   "execution_count": null,
   "metadata": {},
   "outputs": [],
   "source": [
    "brand\n",
    "product_desc price discount"
   ]
  },
  {
   "cell_type": "code",
   "execution_count": 201,
   "metadata": {},
   "outputs": [],
   "source": [
    "fk=pd.DataFrame({\"Brand\":brands[:100],\"Actual Price\":act_price[:100],\"Offer Price\":price[:100],\"Discount %\":discount[:100],\"Description\":product_desc[:100]})"
   ]
  },
  {
   "cell_type": "code",
   "execution_count": 202,
   "metadata": {},
   "outputs": [
    {
     "data": {
      "text/html": [
       "<div>\n",
       "<style scoped>\n",
       "    .dataframe tbody tr th:only-of-type {\n",
       "        vertical-align: middle;\n",
       "    }\n",
       "\n",
       "    .dataframe tbody tr th {\n",
       "        vertical-align: top;\n",
       "    }\n",
       "\n",
       "    .dataframe thead th {\n",
       "        text-align: right;\n",
       "    }\n",
       "</style>\n",
       "<table border=\"1\" class=\"dataframe\">\n",
       "  <thead>\n",
       "    <tr style=\"text-align: right;\">\n",
       "      <th></th>\n",
       "      <th>Brand</th>\n",
       "      <th>Actual Price</th>\n",
       "      <th>Offer Price</th>\n",
       "      <th>Discount %</th>\n",
       "      <th>Description</th>\n",
       "    </tr>\n",
       "  </thead>\n",
       "  <tbody>\n",
       "    <tr>\n",
       "      <th>0</th>\n",
       "      <td>PIRASO</td>\n",
       "      <td>₹1,999</td>\n",
       "      <td>₹329</td>\n",
       "      <td>83% off</td>\n",
       "      <td>UV Protection, Gradient, Night Vision Retro Sq...</td>\n",
       "    </tr>\n",
       "    <tr>\n",
       "      <th>1</th>\n",
       "      <td>ROYAL SON</td>\n",
       "      <td>₹1,549</td>\n",
       "      <td>₹449</td>\n",
       "      <td>77% off</td>\n",
       "      <td>UV Protection, Gradient Round Sunglasses (Free...</td>\n",
       "    </tr>\n",
       "    <tr>\n",
       "      <th>2</th>\n",
       "      <td>PHENOMENAL</td>\n",
       "      <td>₹1,999</td>\n",
       "      <td>₹265</td>\n",
       "      <td>79% off</td>\n",
       "      <td>UV Protection Wayfarer Sunglasses (55)</td>\n",
       "    </tr>\n",
       "    <tr>\n",
       "      <th>3</th>\n",
       "      <td>ROZZETTA CRAFT</td>\n",
       "      <td>₹899</td>\n",
       "      <td>₹379</td>\n",
       "      <td>81% off</td>\n",
       "      <td>UV Protection, Mirrored Retro Square Sunglasse...</td>\n",
       "    </tr>\n",
       "    <tr>\n",
       "      <th>4</th>\n",
       "      <td>PHENOMENAL</td>\n",
       "      <td>₹1,299</td>\n",
       "      <td>₹399</td>\n",
       "      <td>74% off</td>\n",
       "      <td>UV Protection, Riding Glasses Aviator Sunglass...</td>\n",
       "    </tr>\n",
       "    <tr>\n",
       "      <th>...</th>\n",
       "      <td>...</td>\n",
       "      <td>...</td>\n",
       "      <td>...</td>\n",
       "      <td>...</td>\n",
       "      <td>...</td>\n",
       "    </tr>\n",
       "    <tr>\n",
       "      <th>95</th>\n",
       "      <td>GANSTA</td>\n",
       "      <td>₹2,252</td>\n",
       "      <td>₹499</td>\n",
       "      <td>77% off</td>\n",
       "      <td>UV Protection Retro Square Sunglasses (Free Size)</td>\n",
       "    </tr>\n",
       "    <tr>\n",
       "      <th>96</th>\n",
       "      <td>Wrogn</td>\n",
       "      <td>₹1,999</td>\n",
       "      <td>₹699</td>\n",
       "      <td>65% off</td>\n",
       "      <td>Polarized Rectangular Sunglasses (65)</td>\n",
       "    </tr>\n",
       "    <tr>\n",
       "      <th>97</th>\n",
       "      <td>ROZZETTA CRAFT</td>\n",
       "      <td>₹2,499</td>\n",
       "      <td>₹687</td>\n",
       "      <td>72% off</td>\n",
       "      <td>UV Protection, Gradient Over-sized, Round Sung...</td>\n",
       "    </tr>\n",
       "    <tr>\n",
       "      <th>98</th>\n",
       "      <td>elegante</td>\n",
       "      <td>₹1,999</td>\n",
       "      <td>₹399</td>\n",
       "      <td>80% off</td>\n",
       "      <td>Mirrored Round Sunglasses (Free Size)</td>\n",
       "    </tr>\n",
       "    <tr>\n",
       "      <th>99</th>\n",
       "      <td>AISLIN</td>\n",
       "      <td>₹945</td>\n",
       "      <td>₹188</td>\n",
       "      <td>80% off</td>\n",
       "      <td>UV Protection, Night Vision, Riding Glasses Sp...</td>\n",
       "    </tr>\n",
       "  </tbody>\n",
       "</table>\n",
       "<p>100 rows × 5 columns</p>\n",
       "</div>"
      ],
      "text/plain": [
       "             Brand Actual Price Offer Price Discount %  \\\n",
       "0           PIRASO       ₹1,999        ₹329    83% off   \n",
       "1        ROYAL SON       ₹1,549        ₹449    77% off   \n",
       "2       PHENOMENAL       ₹1,999        ₹265    79% off   \n",
       "3   ROZZETTA CRAFT         ₹899        ₹379    81% off   \n",
       "4       PHENOMENAL       ₹1,299        ₹399    74% off   \n",
       "..             ...          ...         ...        ...   \n",
       "95          GANSTA       ₹2,252        ₹499    77% off   \n",
       "96           Wrogn       ₹1,999        ₹699    65% off   \n",
       "97  ROZZETTA CRAFT       ₹2,499        ₹687    72% off   \n",
       "98        elegante       ₹1,999        ₹399    80% off   \n",
       "99          AISLIN         ₹945        ₹188    80% off   \n",
       "\n",
       "                                          Description  \n",
       "0   UV Protection, Gradient, Night Vision Retro Sq...  \n",
       "1   UV Protection, Gradient Round Sunglasses (Free...  \n",
       "2              UV Protection Wayfarer Sunglasses (55)  \n",
       "3   UV Protection, Mirrored Retro Square Sunglasse...  \n",
       "4   UV Protection, Riding Glasses Aviator Sunglass...  \n",
       "..                                                ...  \n",
       "95  UV Protection Retro Square Sunglasses (Free Size)  \n",
       "96              Polarized Rectangular Sunglasses (65)  \n",
       "97  UV Protection, Gradient Over-sized, Round Sung...  \n",
       "98              Mirrored Round Sunglasses (Free Size)  \n",
       "99  UV Protection, Night Vision, Riding Glasses Sp...  \n",
       "\n",
       "[100 rows x 5 columns]"
      ]
     },
     "execution_count": 202,
     "metadata": {},
     "output_type": "execute_result"
    }
   ],
   "source": [
    "fk"
   ]
  },
  {
   "cell_type": "markdown",
   "metadata": {},
   "source": [
    "Q7: Scrape 100 reviews data from flipkart.com for iphone11 phone."
   ]
  },
  {
   "cell_type": "code",
   "execution_count": 203,
   "metadata": {},
   "outputs": [],
   "source": [
    "driver=webdriver.Edge(\"msedgedriver.exe\")"
   ]
  },
  {
   "cell_type": "code",
   "execution_count": 204,
   "metadata": {},
   "outputs": [],
   "source": [
    "url='https://www.flipkart.com/apple-iphone-11-black-64-gb-includes-earpods-power-adapter/p/itm0f37c2240b217?pid=MOBFKCTSVZAXUHGR&lid=LSTMOBFKCTSVZAXUHGREPBFGI&marketplace'\n",
    "driver.get(url)"
   ]
  },
  {
   "cell_type": "code",
   "execution_count": 243,
   "metadata": {},
   "outputs": [],
   "source": [
    "review=[]\n",
    "short_reviews=[]\n",
    "Ratings=[]"
   ]
  },
  {
   "cell_type": "code",
   "execution_count": 213,
   "metadata": {},
   "outputs": [],
   "source": [
    "review_url=[]\n",
    "for i in driver.find_elements_by_xpath('//a[@class=\"ge-49M\"]'):\n",
    "    review_url.append(i.get_attribute(\"href\"))\n"
   ]
  },
  {
   "cell_type": "code",
   "execution_count": 254,
   "metadata": {},
   "outputs": [],
   "source": [
    "for i in review_url:\n",
    "    driver.get(i)\n",
    "    short_review_=driver.find_elements_by_xpath('//p[@class=\"_2-N8zT\"]')\n",
    "    for i in short_review_:\n",
    "        short_reviews.append(i.text)"
   ]
  },
  {
   "cell_type": "code",
   "execution_count": 255,
   "metadata": {},
   "outputs": [
    {
     "data": {
      "text/plain": [
       "90"
      ]
     },
     "execution_count": 255,
     "metadata": {},
     "output_type": "execute_result"
    }
   ],
   "source": [
    "len(short_reviews)"
   ]
  },
  {
   "cell_type": "code",
   "execution_count": 257,
   "metadata": {},
   "outputs": [],
   "source": [
    "for i in review_url:\n",
    "    driver.get(i)\n",
    "    review_=driver.find_elements_by_xpath('//div[@class=\"t-ZTKy\"]')\n",
    "    for i in review_:\n",
    "         review.append(i.text)"
   ]
  },
  {
   "cell_type": "code",
   "execution_count": 258,
   "metadata": {},
   "outputs": [
    {
     "data": {
      "text/plain": [
       "90"
      ]
     },
     "execution_count": 258,
     "metadata": {},
     "output_type": "execute_result"
    }
   ],
   "source": [
    "len(review)\n"
   ]
  },
  {
   "cell_type": "code",
   "execution_count": 280,
   "metadata": {},
   "outputs": [],
   "source": [
    "f_rating=[]\n",
    "for i in review_url:\n",
    "    driver.get(i)\n",
    "    f_rating_=driver.find_elements_by_xpath('//div[@class=\"_3LWZlK _1BLPMq\"]')\n",
    "    for i in f_rating_:\n",
    "         f_rating.append(i.text)"
   ]
  },
  {
   "cell_type": "code",
   "execution_count": 281,
   "metadata": {},
   "outputs": [
    {
     "data": {
      "text/plain": [
       "88"
      ]
     },
     "execution_count": 281,
     "metadata": {},
     "output_type": "execute_result"
    }
   ],
   "source": [
    "len(f_rating)"
   ]
  },
  {
   "cell_type": "code",
   "execution_count": 283,
   "metadata": {},
   "outputs": [
    {
     "name": "stdout",
     "output_type": "stream",
     "text": [
      "90 90 88\n"
     ]
    }
   ],
   "source": [
    "print(len(short_reviews),len(review),len(f_rating))"
   ]
  },
  {
   "cell_type": "code",
   "execution_count": 296,
   "metadata": {},
   "outputs": [],
   "source": [
    "r_onee=pd.DataFrame({\"Short Review\":short_reviews[:88],\"Full Review\":review[:88],\"Rating\":f_rating[:88]})"
   ]
  },
  {
   "cell_type": "code",
   "execution_count": 297,
   "metadata": {},
   "outputs": [
    {
     "data": {
      "text/html": [
       "<div>\n",
       "<style scoped>\n",
       "    .dataframe tbody tr th:only-of-type {\n",
       "        vertical-align: middle;\n",
       "    }\n",
       "\n",
       "    .dataframe tbody tr th {\n",
       "        vertical-align: top;\n",
       "    }\n",
       "\n",
       "    .dataframe thead th {\n",
       "        text-align: right;\n",
       "    }\n",
       "</style>\n",
       "<table border=\"1\" class=\"dataframe\">\n",
       "  <thead>\n",
       "    <tr style=\"text-align: right;\">\n",
       "      <th></th>\n",
       "      <th>Short Review</th>\n",
       "      <th>Full Review</th>\n",
       "      <th>Rating</th>\n",
       "    </tr>\n",
       "  </thead>\n",
       "  <tbody>\n",
       "    <tr>\n",
       "      <th>0</th>\n",
       "      <td>Perfect product!</td>\n",
       "      <td>Iphone is just awesome.. battery backup is ver...</td>\n",
       "      <td>5</td>\n",
       "    </tr>\n",
       "    <tr>\n",
       "      <th>1</th>\n",
       "      <td>Highly recommended</td>\n",
       "      <td>What a camera .....just awesome ..you can feel...</td>\n",
       "      <td>5</td>\n",
       "    </tr>\n",
       "    <tr>\n",
       "      <th>2</th>\n",
       "      <td>Simply awesome</td>\n",
       "      <td>Excellent camera, good performance, no lag. Th...</td>\n",
       "      <td>5</td>\n",
       "    </tr>\n",
       "    <tr>\n",
       "      <th>3</th>\n",
       "      <td>Worth every penny</td>\n",
       "      <td>It’s been almost a month since I have been usi...</td>\n",
       "      <td>5</td>\n",
       "    </tr>\n",
       "    <tr>\n",
       "      <th>4</th>\n",
       "      <td>Nice product</td>\n",
       "      <td>Awesome Phone. Slightly high price but worth. ...</td>\n",
       "      <td>4</td>\n",
       "    </tr>\n",
       "    <tr>\n",
       "      <th>...</th>\n",
       "      <td>...</td>\n",
       "      <td>...</td>\n",
       "      <td>...</td>\n",
       "    </tr>\n",
       "    <tr>\n",
       "      <th>83</th>\n",
       "      <td>Classy product</td>\n",
       "      <td>We are on apple ecosystem for almost eight yea...</td>\n",
       "      <td>5</td>\n",
       "    </tr>\n",
       "    <tr>\n",
       "      <th>84</th>\n",
       "      <td>Excellent</td>\n",
       "      <td>A perfect phone and a good battery super camer...</td>\n",
       "      <td>5</td>\n",
       "    </tr>\n",
       "    <tr>\n",
       "      <th>85</th>\n",
       "      <td>Mind-blowing purchase</td>\n",
       "      <td>i was confused between 11 and 11 pro. i was go...</td>\n",
       "      <td>3</td>\n",
       "    </tr>\n",
       "    <tr>\n",
       "      <th>86</th>\n",
       "      <td>Fabulous!</td>\n",
       "      <td>Product is nice at the deviled time the delive...</td>\n",
       "      <td>5</td>\n",
       "    </tr>\n",
       "    <tr>\n",
       "      <th>87</th>\n",
       "      <td>Does the job</td>\n",
       "      <td>phone is good but in display is 720p lcd in th...</td>\n",
       "      <td>5</td>\n",
       "    </tr>\n",
       "  </tbody>\n",
       "</table>\n",
       "<p>88 rows × 3 columns</p>\n",
       "</div>"
      ],
      "text/plain": [
       "             Short Review                                        Full Review  \\\n",
       "0        Perfect product!  Iphone is just awesome.. battery backup is ver...   \n",
       "1      Highly recommended  What a camera .....just awesome ..you can feel...   \n",
       "2          Simply awesome  Excellent camera, good performance, no lag. Th...   \n",
       "3       Worth every penny  It’s been almost a month since I have been usi...   \n",
       "4            Nice product  Awesome Phone. Slightly high price but worth. ...   \n",
       "..                    ...                                                ...   \n",
       "83         Classy product  We are on apple ecosystem for almost eight yea...   \n",
       "84              Excellent  A perfect phone and a good battery super camer...   \n",
       "85  Mind-blowing purchase  i was confused between 11 and 11 pro. i was go...   \n",
       "86              Fabulous!  Product is nice at the deviled time the delive...   \n",
       "87           Does the job  phone is good but in display is 720p lcd in th...   \n",
       "\n",
       "   Rating  \n",
       "0       5  \n",
       "1       5  \n",
       "2       5  \n",
       "3       5  \n",
       "4       4  \n",
       "..    ...  \n",
       "83      5  \n",
       "84      5  \n",
       "85      3  \n",
       "86      5  \n",
       "87      5  \n",
       "\n",
       "[88 rows x 3 columns]"
      ]
     },
     "execution_count": 297,
     "metadata": {},
     "output_type": "execute_result"
    }
   ],
   "source": [
    "r_onee"
   ]
  },
  {
   "cell_type": "code",
   "execution_count": 222,
   "metadata": {},
   "outputs": [],
   "source": [
    "one_s_review=[]\n",
    "for i in driver.find_elements_by_xpath('//p[@class=\"_2-N8zT\"]'):\n",
    "    one_s_review.append(i.text)"
   ]
  },
  {
   "cell_type": "code",
   "execution_count": 223,
   "metadata": {},
   "outputs": [
    {
     "data": {
      "text/plain": [
       "10"
      ]
     },
     "execution_count": 223,
     "metadata": {},
     "output_type": "execute_result"
    }
   ],
   "source": [
    "len(one_s_review)"
   ]
  },
  {
   "cell_type": "code",
   "execution_count": 292,
   "metadata": {},
   "outputs": [],
   "source": [
    "one_full_review=[]\n",
    "for i in driver.find_elements_by_xpath('//div[@class=\"t-ZTKy\"]'):\n",
    "    one_full_review.append(i.text.replace(\"\\n\",\"  \"))"
   ]
  },
  {
   "cell_type": "code",
   "execution_count": 293,
   "metadata": {},
   "outputs": [
    {
     "data": {
      "text/plain": [
       "10"
      ]
     },
     "execution_count": 293,
     "metadata": {},
     "output_type": "execute_result"
    }
   ],
   "source": [
    "len(one_full_review)"
   ]
  },
  {
   "cell_type": "code",
   "execution_count": 289,
   "metadata": {},
   "outputs": [],
   "source": [
    "one_rating=[]\n",
    "for i in driver.find_elements_by_xpath('//div[@class=\"_3LWZlK _1BLPMq\"]'):\n",
    "    one_rating.append(i.text.replace(\"\\n\",\"  \"))"
   ]
  },
  {
   "cell_type": "code",
   "execution_count": 290,
   "metadata": {},
   "outputs": [
    {
     "data": {
      "text/plain": [
       "10"
      ]
     },
     "execution_count": 290,
     "metadata": {},
     "output_type": "execute_result"
    }
   ],
   "source": [
    "len(one_rating)"
   ]
  },
  {
   "cell_type": "code",
   "execution_count": 228,
   "metadata": {},
   "outputs": [
    {
     "data": {
      "text/plain": [
       "['5', '5', '5', '5', '5', '4', '5', '5', '5', '5']"
      ]
     },
     "execution_count": 228,
     "metadata": {},
     "output_type": "execute_result"
    }
   ],
   "source": [
    "one_rating"
   ]
  },
  {
   "cell_type": "code",
   "execution_count": 294,
   "metadata": {},
   "outputs": [],
   "source": [
    "r_one=pd.DataFrame({\"Short Review\":one_s_review,\"Full Review\":one_full_review,\"Rating\":one_rating})"
   ]
  },
  {
   "cell_type": "code",
   "execution_count": 295,
   "metadata": {},
   "outputs": [
    {
     "data": {
      "text/html": [
       "<div>\n",
       "<style scoped>\n",
       "    .dataframe tbody tr th:only-of-type {\n",
       "        vertical-align: middle;\n",
       "    }\n",
       "\n",
       "    .dataframe tbody tr th {\n",
       "        vertical-align: top;\n",
       "    }\n",
       "\n",
       "    .dataframe thead th {\n",
       "        text-align: right;\n",
       "    }\n",
       "</style>\n",
       "<table border=\"1\" class=\"dataframe\">\n",
       "  <thead>\n",
       "    <tr style=\"text-align: right;\">\n",
       "      <th></th>\n",
       "      <th>Short Review</th>\n",
       "      <th>Full Review</th>\n",
       "      <th>Rating</th>\n",
       "    </tr>\n",
       "  </thead>\n",
       "  <tbody>\n",
       "    <tr>\n",
       "      <th>0</th>\n",
       "      <td>Brilliant</td>\n",
       "      <td>If you are looking for a premium phone under 5...</td>\n",
       "      <td>4</td>\n",
       "    </tr>\n",
       "    <tr>\n",
       "      <th>1</th>\n",
       "      <td>Perfect product!</td>\n",
       "      <td>Awesome camera, smooth and fast UI, display is...</td>\n",
       "      <td>4</td>\n",
       "    </tr>\n",
       "    <tr>\n",
       "      <th>2</th>\n",
       "      <td>Great product</td>\n",
       "      <td>The best all rounder iphone. Flipkart is doing...</td>\n",
       "      <td>5</td>\n",
       "    </tr>\n",
       "    <tr>\n",
       "      <th>3</th>\n",
       "      <td>Worth every penny</td>\n",
       "      <td>We are on apple ecosystem for almost eight yea...</td>\n",
       "      <td>5</td>\n",
       "    </tr>\n",
       "    <tr>\n",
       "      <th>4</th>\n",
       "      <td>Fabulous!</td>\n",
       "      <td>A perfect phone and a good battery super camer...</td>\n",
       "      <td>5</td>\n",
       "    </tr>\n",
       "    <tr>\n",
       "      <th>5</th>\n",
       "      <td>Good choice</td>\n",
       "      <td>i was confused between 11 and 11 pro. i was go...</td>\n",
       "      <td>5</td>\n",
       "    </tr>\n",
       "    <tr>\n",
       "      <th>6</th>\n",
       "      <td>Highly recommended</td>\n",
       "      <td>Product is nice at the deviled time the delive...</td>\n",
       "      <td>5</td>\n",
       "    </tr>\n",
       "    <tr>\n",
       "      <th>7</th>\n",
       "      <td>Perfect product!</td>\n",
       "      <td>phone is good but in display is 720p lcd in th...</td>\n",
       "      <td>3</td>\n",
       "    </tr>\n",
       "    <tr>\n",
       "      <th>8</th>\n",
       "      <td>Perfect product!</td>\n",
       "      <td>Everything is perfect pictures come out so cle...</td>\n",
       "      <td>5</td>\n",
       "    </tr>\n",
       "    <tr>\n",
       "      <th>9</th>\n",
       "      <td>Highly recommended</td>\n",
       "      <td>I dreamt about this day from a long time.... G...</td>\n",
       "      <td>5</td>\n",
       "    </tr>\n",
       "  </tbody>\n",
       "</table>\n",
       "</div>"
      ],
      "text/plain": [
       "         Short Review                                        Full Review  \\\n",
       "0           Brilliant  If you are looking for a premium phone under 5...   \n",
       "1    Perfect product!  Awesome camera, smooth and fast UI, display is...   \n",
       "2       Great product  The best all rounder iphone. Flipkart is doing...   \n",
       "3   Worth every penny  We are on apple ecosystem for almost eight yea...   \n",
       "4           Fabulous!  A perfect phone and a good battery super camer...   \n",
       "5         Good choice  i was confused between 11 and 11 pro. i was go...   \n",
       "6  Highly recommended  Product is nice at the deviled time the delive...   \n",
       "7    Perfect product!  phone is good but in display is 720p lcd in th...   \n",
       "8    Perfect product!  Everything is perfect pictures come out so cle...   \n",
       "9  Highly recommended  I dreamt about this day from a long time.... G...   \n",
       "\n",
       "  Rating  \n",
       "0      4  \n",
       "1      4  \n",
       "2      5  \n",
       "3      5  \n",
       "4      5  \n",
       "5      5  \n",
       "6      5  \n",
       "7      3  \n",
       "8      5  \n",
       "9      5  "
      ]
     },
     "execution_count": 295,
     "metadata": {},
     "output_type": "execute_result"
    }
   ],
   "source": [
    "r_one"
   ]
  },
  {
   "cell_type": "code",
   "execution_count": 299,
   "metadata": {},
   "outputs": [
    {
     "data": {
      "text/html": [
       "<div>\n",
       "<style scoped>\n",
       "    .dataframe tbody tr th:only-of-type {\n",
       "        vertical-align: middle;\n",
       "    }\n",
       "\n",
       "    .dataframe tbody tr th {\n",
       "        vertical-align: top;\n",
       "    }\n",
       "\n",
       "    .dataframe thead th {\n",
       "        text-align: right;\n",
       "    }\n",
       "</style>\n",
       "<table border=\"1\" class=\"dataframe\">\n",
       "  <thead>\n",
       "    <tr style=\"text-align: right;\">\n",
       "      <th></th>\n",
       "      <th>Short Review</th>\n",
       "      <th>Full Review</th>\n",
       "      <th>Rating</th>\n",
       "    </tr>\n",
       "  </thead>\n",
       "  <tbody>\n",
       "    <tr>\n",
       "      <th>0</th>\n",
       "      <td>Brilliant</td>\n",
       "      <td>If you are looking for a premium phone under 5...</td>\n",
       "      <td>4</td>\n",
       "    </tr>\n",
       "    <tr>\n",
       "      <th>1</th>\n",
       "      <td>Perfect product!</td>\n",
       "      <td>Awesome camera, smooth and fast UI, display is...</td>\n",
       "      <td>4</td>\n",
       "    </tr>\n",
       "    <tr>\n",
       "      <th>2</th>\n",
       "      <td>Great product</td>\n",
       "      <td>The best all rounder iphone. Flipkart is doing...</td>\n",
       "      <td>5</td>\n",
       "    </tr>\n",
       "    <tr>\n",
       "      <th>3</th>\n",
       "      <td>Worth every penny</td>\n",
       "      <td>We are on apple ecosystem for almost eight yea...</td>\n",
       "      <td>5</td>\n",
       "    </tr>\n",
       "    <tr>\n",
       "      <th>4</th>\n",
       "      <td>Fabulous!</td>\n",
       "      <td>A perfect phone and a good battery super camer...</td>\n",
       "      <td>5</td>\n",
       "    </tr>\n",
       "    <tr>\n",
       "      <th>...</th>\n",
       "      <td>...</td>\n",
       "      <td>...</td>\n",
       "      <td>...</td>\n",
       "    </tr>\n",
       "    <tr>\n",
       "      <th>93</th>\n",
       "      <td>Classy product</td>\n",
       "      <td>We are on apple ecosystem for almost eight yea...</td>\n",
       "      <td>5</td>\n",
       "    </tr>\n",
       "    <tr>\n",
       "      <th>94</th>\n",
       "      <td>Excellent</td>\n",
       "      <td>A perfect phone and a good battery super camer...</td>\n",
       "      <td>5</td>\n",
       "    </tr>\n",
       "    <tr>\n",
       "      <th>95</th>\n",
       "      <td>Mind-blowing purchase</td>\n",
       "      <td>i was confused between 11 and 11 pro. i was go...</td>\n",
       "      <td>3</td>\n",
       "    </tr>\n",
       "    <tr>\n",
       "      <th>96</th>\n",
       "      <td>Fabulous!</td>\n",
       "      <td>Product is nice at the deviled time the delive...</td>\n",
       "      <td>5</td>\n",
       "    </tr>\n",
       "    <tr>\n",
       "      <th>97</th>\n",
       "      <td>Does the job</td>\n",
       "      <td>phone is good but in display is 720p lcd in th...</td>\n",
       "      <td>5</td>\n",
       "    </tr>\n",
       "  </tbody>\n",
       "</table>\n",
       "<p>98 rows × 3 columns</p>\n",
       "</div>"
      ],
      "text/plain": [
       "             Short Review                                        Full Review  \\\n",
       "0               Brilliant  If you are looking for a premium phone under 5...   \n",
       "1        Perfect product!  Awesome camera, smooth and fast UI, display is...   \n",
       "2           Great product  The best all rounder iphone. Flipkart is doing...   \n",
       "3       Worth every penny  We are on apple ecosystem for almost eight yea...   \n",
       "4               Fabulous!  A perfect phone and a good battery super camer...   \n",
       "..                    ...                                                ...   \n",
       "93         Classy product  We are on apple ecosystem for almost eight yea...   \n",
       "94              Excellent  A perfect phone and a good battery super camer...   \n",
       "95  Mind-blowing purchase  i was confused between 11 and 11 pro. i was go...   \n",
       "96              Fabulous!  Product is nice at the deviled time the delive...   \n",
       "97           Does the job  phone is good but in display is 720p lcd in th...   \n",
       "\n",
       "   Rating  \n",
       "0       4  \n",
       "1       4  \n",
       "2       5  \n",
       "3       5  \n",
       "4       5  \n",
       "..    ...  \n",
       "93      5  \n",
       "94      5  \n",
       "95      3  \n",
       "96      5  \n",
       "97      5  \n",
       "\n",
       "[98 rows x 3 columns]"
      ]
     },
     "execution_count": 299,
     "metadata": {},
     "output_type": "execute_result"
    }
   ],
   "source": [
    "i_rating=r_one.append(r_onee,ignore_index=True)\n",
    "i_rating"
   ]
  },
  {
   "cell_type": "markdown",
   "metadata": {},
   "source": [
    "Since I couldnt able scrape all the data from rating I couldnt able to get 100 rows \n",
    "I have use exception method too but I couldn't able to scrape the all the values"
   ]
  },
  {
   "cell_type": "markdown",
   "metadata": {},
   "source": [
    "Q8: Scrape data for first 100 sneakers you find when you visit flipkart.com"
   ]
  },
  {
   "cell_type": "code",
   "execution_count": 328,
   "metadata": {},
   "outputs": [],
   "source": [
    "driver=webdriver.Edge(\"msedgedriver.exe\")"
   ]
  },
  {
   "cell_type": "code",
   "execution_count": 329,
   "metadata": {},
   "outputs": [],
   "source": [
    "url='https://www.flipkart.com/'\n",
    "driver.get(url)"
   ]
  },
  {
   "cell_type": "code",
   "execution_count": 330,
   "metadata": {},
   "outputs": [],
   "source": [
    "driver.find_element_by_xpath('//button[@class=\"_2KpZ6l _2doB4z\"]').click()"
   ]
  },
  {
   "cell_type": "code",
   "execution_count": 331,
   "metadata": {},
   "outputs": [],
   "source": [
    "driver.find_element_by_xpath('//input[@class=\"_3704LK\"]').send_keys(\"sneakers\")  "
   ]
  },
  {
   "cell_type": "code",
   "execution_count": 332,
   "metadata": {},
   "outputs": [],
   "source": [
    "driver.find_element_by_xpath('//button[@class=\"L0Z3Pu\"]').click()"
   ]
  },
  {
   "cell_type": "code",
   "execution_count": 345,
   "metadata": {},
   "outputs": [],
   "source": [
    "s_url=[]\n",
    "for i in driver.find_elements_by_xpath('//nav[@class=\"yFHi8N\"]/a'):\n",
    "    s_url.append(i.get_attribute(\"href\"))"
   ]
  },
  {
   "cell_type": "code",
   "execution_count": 357,
   "metadata": {},
   "outputs": [],
   "source": [
    "brand=[]\n",
    "product_desc=[]\n",
    "price=[]\n",
    "discount=[] "
   ]
  },
  {
   "cell_type": "code",
   "execution_count": 364,
   "metadata": {},
   "outputs": [],
   "source": [
    "\n",
    "for i in s_url[:3]:\n",
    "    driver.get(i)\n",
    "    brand_=driver.find_elements_by_xpath('//div[@class=\"_2WkVRV\"]')\n",
    "    for i in brand_:\n",
    "         brand.append(i.text)"
   ]
  },
  {
   "cell_type": "code",
   "execution_count": 365,
   "metadata": {},
   "outputs": [
    {
     "data": {
      "text/plain": [
       "120"
      ]
     },
     "execution_count": 365,
     "metadata": {},
     "output_type": "execute_result"
    }
   ],
   "source": [
    "len(brand)"
   ]
  },
  {
   "cell_type": "raw",
   "metadata": {},
   "source": [
    "p_des=[]\n",
    "for i in s_url:\n",
    "    \n",
    "    driver.get(i)\n",
    "    try:\n",
    "        p.des_=driver.find_element_by_xpath('//a[@class=\"IRpwTa\"]')\n",
    "        p.des.append(p.des_.text)\n",
    "    except:\n",
    "        p_des.append(\"--\")"
   ]
  },
  {
   "cell_type": "code",
   "execution_count": 386,
   "metadata": {},
   "outputs": [],
   "source": [
    "sneaker_description=[]\n",
    "for i in s_url[:3]:\n",
    "    driver.get(i)\n",
    "    descriptions=driver.find_elements_by_xpath('//a[contains(@class,\"IRpwTa\")]')\n",
    "    for description in descriptions:\n",
    "        sneaker_description.append(description.text)"
   ]
  },
  {
   "cell_type": "code",
   "execution_count": 387,
   "metadata": {},
   "outputs": [
    {
     "data": {
      "text/plain": [
       "120"
      ]
     },
     "execution_count": 387,
     "metadata": {},
     "output_type": "execute_result"
    }
   ],
   "source": [
    "len(sneaker_description)"
   ]
  },
  {
   "cell_type": "code",
   "execution_count": 389,
   "metadata": {},
   "outputs": [],
   "source": [
    "for i in s_url[:3]:\n",
    "    driver.get(i)\n",
    "    prices_=driver.find_elements_by_xpath('//div[@class=\"_30jeq3\"]')\n",
    "    for i in prices_:\n",
    "        price.append(i.text)"
   ]
  },
  {
   "cell_type": "code",
   "execution_count": 390,
   "metadata": {},
   "outputs": [
    {
     "data": {
      "text/plain": [
       "120"
      ]
     },
     "execution_count": 390,
     "metadata": {},
     "output_type": "execute_result"
    }
   ],
   "source": [
    "len(price)"
   ]
  },
  {
   "cell_type": "code",
   "execution_count": 392,
   "metadata": {},
   "outputs": [],
   "source": [
    "for i in s_url[:3]:\n",
    "    driver.get(i)\n",
    "    discount_=driver.find_elements_by_xpath('//div[@class=\"_3Ay6Sb\"]')\n",
    "    for i in discount_:\n",
    "        discount.append(i.text)"
   ]
  },
  {
   "cell_type": "code",
   "execution_count": 393,
   "metadata": {},
   "outputs": [
    {
     "data": {
      "text/plain": [
       "120"
      ]
     },
     "execution_count": 393,
     "metadata": {},
     "output_type": "execute_result"
    }
   ],
   "source": [
    "len(discount)"
   ]
  },
  {
   "cell_type": "code",
   "execution_count": null,
   "metadata": {},
   "outputs": [],
   "source": [
    "brand=[]\n",
    "sneaker_description=[]\n",
    "price=[]\n",
    "discount=[] "
   ]
  },
  {
   "cell_type": "code",
   "execution_count": 399,
   "metadata": {},
   "outputs": [],
   "source": [
    "s=pd.DataFrame({'Brand':brand[:100],'Sneaker Description':sneaker_description[:100],'Price':price[:100],\"Discount\":discount[:100]})"
   ]
  },
  {
   "cell_type": "code",
   "execution_count": 400,
   "metadata": {},
   "outputs": [
    {
     "data": {
      "text/html": [
       "<div>\n",
       "<style scoped>\n",
       "    .dataframe tbody tr th:only-of-type {\n",
       "        vertical-align: middle;\n",
       "    }\n",
       "\n",
       "    .dataframe tbody tr th {\n",
       "        vertical-align: top;\n",
       "    }\n",
       "\n",
       "    .dataframe thead th {\n",
       "        text-align: right;\n",
       "    }\n",
       "</style>\n",
       "<table border=\"1\" class=\"dataframe\">\n",
       "  <thead>\n",
       "    <tr style=\"text-align: right;\">\n",
       "      <th></th>\n",
       "      <th>Brand</th>\n",
       "      <th>Sneaker Description</th>\n",
       "      <th>Price</th>\n",
       "      <th>Discount</th>\n",
       "    </tr>\n",
       "  </thead>\n",
       "  <tbody>\n",
       "    <tr>\n",
       "      <th>0</th>\n",
       "      <td>Chevit</td>\n",
       "      <td>Unique &amp; Perfect Collection Combo Pack of 02 S...</td>\n",
       "      <td>₹448</td>\n",
       "      <td>₹1050 off</td>\n",
       "    </tr>\n",
       "    <tr>\n",
       "      <th>1</th>\n",
       "      <td>India hub</td>\n",
       "      <td>Fashionable casual sneakers shoes Sneakers For...</td>\n",
       "      <td>₹389</td>\n",
       "      <td>₹2610 off</td>\n",
       "    </tr>\n",
       "    <tr>\n",
       "      <th>2</th>\n",
       "      <td>KULP</td>\n",
       "      <td>Sneakers For Men</td>\n",
       "      <td>₹399</td>\n",
       "      <td>₹1248 off</td>\n",
       "    </tr>\n",
       "    <tr>\n",
       "      <th>3</th>\n",
       "      <td>CALCADOS</td>\n",
       "      <td>Modern Trendy Shoes Combo pack of 4 Sneakers F...</td>\n",
       "      <td>₹748</td>\n",
       "      <td>₹600 off</td>\n",
       "    </tr>\n",
       "    <tr>\n",
       "      <th>4</th>\n",
       "      <td>ORICUM</td>\n",
       "      <td>Combo pack of 2 casual sneaker shoes for men S...</td>\n",
       "      <td>₹377</td>\n",
       "      <td>₹621 off</td>\n",
       "    </tr>\n",
       "    <tr>\n",
       "      <th>...</th>\n",
       "      <td>...</td>\n",
       "      <td>...</td>\n",
       "      <td>...</td>\n",
       "      <td>...</td>\n",
       "    </tr>\n",
       "    <tr>\n",
       "      <th>95</th>\n",
       "      <td>Absolute comfort</td>\n",
       "      <td>Rockstyle Trending Multicolor Ultralight canva...</td>\n",
       "      <td>₹474</td>\n",
       "      <td>₹825 off</td>\n",
       "    </tr>\n",
       "    <tr>\n",
       "      <th>96</th>\n",
       "      <td>Ktiz</td>\n",
       "      <td>REDT Sneakers For Men</td>\n",
       "      <td>₹1,386</td>\n",
       "      <td>₹2313 off</td>\n",
       "    </tr>\n",
       "    <tr>\n",
       "      <th>97</th>\n",
       "      <td>REEBOOT</td>\n",
       "      <td>Sneakers For Men</td>\n",
       "      <td>₹1,687</td>\n",
       "      <td>₹1312 off</td>\n",
       "    </tr>\n",
       "    <tr>\n",
       "      <th>98</th>\n",
       "      <td>United Colors of Benetton.</td>\n",
       "      <td>Firm IDP Sneakers For Men</td>\n",
       "      <td>₹440</td>\n",
       "      <td>₹859 off</td>\n",
       "    </tr>\n",
       "    <tr>\n",
       "      <th>99</th>\n",
       "      <td>PUMA</td>\n",
       "      <td>Shoes For Boys Dance shoes Sneakers For Men</td>\n",
       "      <td>₹664</td>\n",
       "      <td>₹335 off</td>\n",
       "    </tr>\n",
       "  </tbody>\n",
       "</table>\n",
       "<p>100 rows × 4 columns</p>\n",
       "</div>"
      ],
      "text/plain": [
       "                         Brand  \\\n",
       "0                       Chevit   \n",
       "1                    India hub   \n",
       "2                         KULP   \n",
       "3                     CALCADOS   \n",
       "4                       ORICUM   \n",
       "..                         ...   \n",
       "95            Absolute comfort   \n",
       "96                        Ktiz   \n",
       "97                     REEBOOT   \n",
       "98  United Colors of Benetton.   \n",
       "99                        PUMA   \n",
       "\n",
       "                                  Sneaker Description   Price   Discount  \n",
       "0   Unique & Perfect Collection Combo Pack of 02 S...    ₹448  ₹1050 off  \n",
       "1   Fashionable casual sneakers shoes Sneakers For...    ₹389  ₹2610 off  \n",
       "2                                    Sneakers For Men    ₹399  ₹1248 off  \n",
       "3   Modern Trendy Shoes Combo pack of 4 Sneakers F...    ₹748   ₹600 off  \n",
       "4   Combo pack of 2 casual sneaker shoes for men S...    ₹377   ₹621 off  \n",
       "..                                                ...     ...        ...  \n",
       "95  Rockstyle Trending Multicolor Ultralight canva...    ₹474   ₹825 off  \n",
       "96                              REDT Sneakers For Men  ₹1,386  ₹2313 off  \n",
       "97                                   Sneakers For Men  ₹1,687  ₹1312 off  \n",
       "98                          Firm IDP Sneakers For Men    ₹440   ₹859 off  \n",
       "99        Shoes For Boys Dance shoes Sneakers For Men    ₹664   ₹335 off  \n",
       "\n",
       "[100 rows x 4 columns]"
      ]
     },
     "execution_count": 400,
     "metadata": {},
     "output_type": "execute_result"
    }
   ],
   "source": [
    "s"
   ]
  },
  {
   "cell_type": "markdown",
   "metadata": {},
   "source": [
    "Q 8 scrape First 100 shoes data you get. The data should include “Brand” of\n",
    "the shoes , Short Shoe description, price of the shoe"
   ]
  },
  {
   "cell_type": "code",
   "execution_count": 401,
   "metadata": {},
   "outputs": [],
   "source": [
    "driver=webdriver.Edge(\"msedgedriver.exe\")"
   ]
  },
  {
   "cell_type": "code",
   "execution_count": 402,
   "metadata": {},
   "outputs": [],
   "source": [
    "url=\"https://www.myntra.com/shoes\"\n",
    "driver.get(url)"
   ]
  },
  {
   "cell_type": "code",
   "execution_count": 436,
   "metadata": {},
   "outputs": [],
   "source": [
    "s_brandss=[]\n",
    "s_des=[]\n",
    "s_price=[]"
   ]
  },
  {
   "cell_type": "code",
   "execution_count": 405,
   "metadata": {},
   "outputs": [],
   "source": [
    "driver.find_element_by_xpath('//ul[@class=\"price-list\"]/li[2]').click()   "
   ]
  },
  {
   "cell_type": "code",
   "execution_count": 406,
   "metadata": {},
   "outputs": [],
   "source": [
    "driver.find_element_by_xpath('//span[@data-colorhex=\"black\"]').click() "
   ]
  },
  {
   "cell_type": "code",
   "execution_count": 451,
   "metadata": {},
   "outputs": [
    {
     "data": {
      "text/plain": [
       "['https://www.myntra.com/shoes?f=Color%3ABlack_36454f&plaEnabled=false&rf=Price%3A6649.0_13099.0_6649.0%20TO%2013099.0',\n",
       " 'https://www.myntra.com/shoes?f=Color%3ABlack_36454f&plaEnabled=false&rf=Price%3A6649.0_13099.0_6649.0%20TO%2013099.0&p=6',\n",
       " 'https://www.myntra.com/shoes?f=Color%3ABlack_36454f&plaEnabled=false&rf=Price%3A6649.0_13099.0_6649.0%20TO%2013099.0&p=7',\n",
       " 'https://www.myntra.com/shoes?f=Color%3ABlack_36454f&plaEnabled=false&rf=Price%3A6649.0_13099.0_6649.0%20TO%2013099.0&p=8',\n",
       " 'https://www.myntra.com/shoes?f=Color%3ABlack_36454f&plaEnabled=false&rf=Price%3A6649.0_13099.0_6649.0%20TO%2013099.0&p=9',\n",
       " 'https://www.myntra.com/shoes?f=Color%3ABlack_36454f&plaEnabled=false&rf=Price%3A6649.0_13099.0_6649.0%20TO%2013099.0&p=11',\n",
       " 'https://www.myntra.com/shoes?f=Color%3ABlack_36454f&plaEnabled=false&rf=Price%3A6649.0_13099.0_6649.0%20TO%2013099.0&p=12']"
      ]
     },
     "execution_count": 451,
     "metadata": {},
     "output_type": "execute_result"
    }
   ],
   "source": [
    "m_url=[]\n",
    "for i in driver.find_elements_by_xpath('//li[@class=\"pagination-number\"]/a'):\n",
    "    m_url.append(i.get_attribute(\"href\"))\n",
    "m_url"
   ]
  },
  {
   "cell_type": "code",
   "execution_count": 452,
   "metadata": {},
   "outputs": [],
   "source": [
    "for i in m_url[:4]:\n",
    "    driver.get(i)\n",
    "    s_brand_=driver.find_elements_by_xpath('//h3[@class=\"product-brand\"]')\n",
    "    for i in s_brand_:\n",
    "        s_brandss.append(i.text)"
   ]
  },
  {
   "cell_type": "code",
   "execution_count": 453,
   "metadata": {},
   "outputs": [
    {
     "data": {
      "text/plain": [
       "200"
      ]
     },
     "execution_count": 453,
     "metadata": {},
     "output_type": "execute_result"
    }
   ],
   "source": [
    "len(s_brandss)"
   ]
  },
  {
   "cell_type": "code",
   "execution_count": 454,
   "metadata": {},
   "outputs": [],
   "source": [
    "for i in m_url[:2]:\n",
    "    driver.get(i)\n",
    "    s_des_=driver.find_elements_by_xpath('//h4[@class=\"product-product\"]')\n",
    "    for i in s_des_:\n",
    "        s_des.append(i.text)"
   ]
  },
  {
   "cell_type": "code",
   "execution_count": 455,
   "metadata": {},
   "outputs": [
    {
     "data": {
      "text/plain": [
       "100"
      ]
     },
     "execution_count": 455,
     "metadata": {},
     "output_type": "execute_result"
    }
   ],
   "source": [
    "len(s_des)"
   ]
  },
  {
   "cell_type": "code",
   "execution_count": 456,
   "metadata": {},
   "outputs": [],
   "source": [
    "for i in m_url[:2]:\n",
    "    driver.get(i)\n",
    "    s_price_=driver.find_elements_by_xpath('//div[@class=\"product-price\"]')  \n",
    "    for i in s_price_:\n",
    "        s_price.append(i.text)"
   ]
  },
  {
   "cell_type": "code",
   "execution_count": 457,
   "metadata": {},
   "outputs": [
    {
     "data": {
      "text/plain": [
       "100"
      ]
     },
     "execution_count": 457,
     "metadata": {},
     "output_type": "execute_result"
    }
   ],
   "source": [
    "len(s_price)"
   ]
  },
  {
   "cell_type": "code",
   "execution_count": 458,
   "metadata": {},
   "outputs": [],
   "source": [
    "sneaker=pd.DataFrame({\"Brand\":s_brandss[:100],\"Price\":s_price[:100],\"Description\":s_des[:100]})"
   ]
  },
  {
   "cell_type": "code",
   "execution_count": 459,
   "metadata": {},
   "outputs": [
    {
     "data": {
      "text/html": [
       "<div>\n",
       "<style scoped>\n",
       "    .dataframe tbody tr th:only-of-type {\n",
       "        vertical-align: middle;\n",
       "    }\n",
       "\n",
       "    .dataframe tbody tr th {\n",
       "        vertical-align: top;\n",
       "    }\n",
       "\n",
       "    .dataframe thead th {\n",
       "        text-align: right;\n",
       "    }\n",
       "</style>\n",
       "<table border=\"1\" class=\"dataframe\">\n",
       "  <thead>\n",
       "    <tr style=\"text-align: right;\">\n",
       "      <th></th>\n",
       "      <th>Brand</th>\n",
       "      <th>Price</th>\n",
       "      <th>Description</th>\n",
       "    </tr>\n",
       "  </thead>\n",
       "  <tbody>\n",
       "    <tr>\n",
       "      <th>0</th>\n",
       "      <td>Nike</td>\n",
       "      <td>Rs. 11495</td>\n",
       "      <td>Men JORDAN DELTA Basketball</td>\n",
       "    </tr>\n",
       "    <tr>\n",
       "      <th>1</th>\n",
       "      <td>Nike</td>\n",
       "      <td>Rs. 12995</td>\n",
       "      <td>AIR ZOOM PEGASUS Running Shoes</td>\n",
       "    </tr>\n",
       "    <tr>\n",
       "      <th>2</th>\n",
       "      <td>Nike</td>\n",
       "      <td>Rs. 9999</td>\n",
       "      <td>Men KD13 EP Basketball Shoes</td>\n",
       "    </tr>\n",
       "    <tr>\n",
       "      <th>3</th>\n",
       "      <td>Nike</td>\n",
       "      <td>Rs. 10496Rs. 14995(30% OFF)</td>\n",
       "      <td>Men JOYRIDE Running Shoes</td>\n",
       "    </tr>\n",
       "    <tr>\n",
       "      <th>4</th>\n",
       "      <td>Nike</td>\n",
       "      <td>Rs. 8396Rs. 11995(30% OFF)</td>\n",
       "      <td>Women REACT Running Shoes</td>\n",
       "    </tr>\n",
       "    <tr>\n",
       "      <th>...</th>\n",
       "      <td>...</td>\n",
       "      <td>...</td>\n",
       "      <td>...</td>\n",
       "    </tr>\n",
       "    <tr>\n",
       "      <th>95</th>\n",
       "      <td>ROSSO BRUNELLO</td>\n",
       "      <td>Rs. 8999Rs. 9999(10% OFF)</td>\n",
       "      <td>Men Textured Leather Loafers</td>\n",
       "    </tr>\n",
       "    <tr>\n",
       "      <th>96</th>\n",
       "      <td>Saint G</td>\n",
       "      <td>Rs. 11800</td>\n",
       "      <td>Leather Heeled Boots</td>\n",
       "    </tr>\n",
       "    <tr>\n",
       "      <th>97</th>\n",
       "      <td>Kenneth Cole</td>\n",
       "      <td>Rs. 7794Rs. 12990(40% OFF)</td>\n",
       "      <td>Men Solid Leather Formal Loafers</td>\n",
       "    </tr>\n",
       "    <tr>\n",
       "      <th>98</th>\n",
       "      <td>Saint G</td>\n",
       "      <td>Rs. 8400</td>\n",
       "      <td>Women Heeled Leather Boots</td>\n",
       "    </tr>\n",
       "    <tr>\n",
       "      <th>99</th>\n",
       "      <td>Clarks</td>\n",
       "      <td>Rs. 7499</td>\n",
       "      <td>Men Leather Sneakers</td>\n",
       "    </tr>\n",
       "  </tbody>\n",
       "</table>\n",
       "<p>100 rows × 3 columns</p>\n",
       "</div>"
      ],
      "text/plain": [
       "             Brand                        Price  \\\n",
       "0             Nike                    Rs. 11495   \n",
       "1             Nike                    Rs. 12995   \n",
       "2             Nike                     Rs. 9999   \n",
       "3             Nike  Rs. 10496Rs. 14995(30% OFF)   \n",
       "4             Nike   Rs. 8396Rs. 11995(30% OFF)   \n",
       "..             ...                          ...   \n",
       "95  ROSSO BRUNELLO    Rs. 8999Rs. 9999(10% OFF)   \n",
       "96         Saint G                    Rs. 11800   \n",
       "97    Kenneth Cole   Rs. 7794Rs. 12990(40% OFF)   \n",
       "98         Saint G                     Rs. 8400   \n",
       "99          Clarks                     Rs. 7499   \n",
       "\n",
       "                         Description  \n",
       "0        Men JORDAN DELTA Basketball  \n",
       "1     AIR ZOOM PEGASUS Running Shoes  \n",
       "2       Men KD13 EP Basketball Shoes  \n",
       "3          Men JOYRIDE Running Shoes  \n",
       "4          Women REACT Running Shoes  \n",
       "..                               ...  \n",
       "95      Men Textured Leather Loafers  \n",
       "96              Leather Heeled Boots  \n",
       "97  Men Solid Leather Formal Loafers  \n",
       "98        Women Heeled Leather Boots  \n",
       "99              Men Leather Sneakers  \n",
       "\n",
       "[100 rows x 3 columns]"
      ]
     },
     "execution_count": 459,
     "metadata": {},
     "output_type": "execute_result"
    }
   ],
   "source": [
    "sneaker"
   ]
  },
  {
   "cell_type": "markdown",
   "metadata": {},
   "source": [
    "Q10: scrape first 10 laptops data. You have to scrape 3 attributes\n",
    "for each laptop:"
   ]
  },
  {
   "cell_type": "code",
   "execution_count": 3,
   "metadata": {},
   "outputs": [],
   "source": [
    "driver=webdriver.Edge(\"msedgedriver.exe\")"
   ]
  },
  {
   "cell_type": "code",
   "execution_count": 4,
   "metadata": {},
   "outputs": [],
   "source": [
    "url='https://www.amazon.in/'\n",
    "driver.get(url)"
   ]
  },
  {
   "cell_type": "code",
   "execution_count": 5,
   "metadata": {},
   "outputs": [],
   "source": [
    "driver.find_element_by_xpath('//input[@id=\"twotabsearchtextbox\"]').send_keys('Laptop')\n",
    "    \n"
   ]
  },
  {
   "cell_type": "code",
   "execution_count": 6,
   "metadata": {},
   "outputs": [],
   "source": [
    "driver.find_element_by_xpath('//input[@type=\"submit\"]').click()"
   ]
  },
  {
   "cell_type": "code",
   "execution_count": 13,
   "metadata": {},
   "outputs": [],
   "source": [
    "driver.find_element_by_xpath('//li[@id=\"p_n_feature_thirteen_browse-bin/12598163031\"]/span/a',).click()\n"
   ]
  },
  {
   "cell_type": "code",
   "execution_count": 8,
   "metadata": {},
   "outputs": [],
   "source": [
    "driver.find_element_by_xpath('//li[@id=\"p_n_feature_thirteen_browse-bin/16757432031\"]/span/a').click()\n"
   ]
  },
  {
   "cell_type": "code",
   "execution_count": 9,
   "metadata": {},
   "outputs": [],
   "source": [
    "titles_=driver.find_elements_by_xpath('//span[@class=\"a-size-medium a-color-base a-text-normal\"]')\n"
   ]
  },
  {
   "cell_type": "code",
   "execution_count": 10,
   "metadata": {},
   "outputs": [],
   "source": [
    "titles=[]\n",
    "for i in titles_:\n",
    "    titles.append(i.text)"
   ]
  },
  {
   "cell_type": "code",
   "execution_count": 11,
   "metadata": {},
   "outputs": [
    {
     "data": {
      "text/plain": [
       "29"
      ]
     },
     "execution_count": 11,
     "metadata": {},
     "output_type": "execute_result"
    }
   ],
   "source": [
    "len(titles)"
   ]
  },
  {
   "cell_type": "code",
   "execution_count": 12,
   "metadata": {},
   "outputs": [],
   "source": [
    "prices=[]\n",
    "for i in driver.find_elements_by_xpath('//span[@class=\"a-price-whole\"]'):\n",
    "    if i.text is None:\n",
    "        prices.append(\"No Data\")\n",
    "    else:\n",
    "        prices.append(i.text)\n"
   ]
  },
  {
   "cell_type": "code",
   "execution_count": 481,
   "metadata": {},
   "outputs": [
    {
     "data": {
      "text/plain": [
       "22"
      ]
     },
     "execution_count": 481,
     "metadata": {},
     "output_type": "execute_result"
    }
   ],
   "source": [
    "len(prices) "
   ]
  },
  {
   "cell_type": "code",
   "execution_count": 489,
   "metadata": {},
   "outputs": [],
   "source": [
    "ratings=[]\n",
    "ratings_=driver.find_elements_by_xpath('//div[@class=\"a-row a-size-small\"]/span[1]')  \n",
    "for i in ratings_:\n",
    "        ratings.append(i.get_attribute('aria-label'))"
   ]
  },
  {
   "cell_type": "code",
   "execution_count": 491,
   "metadata": {},
   "outputs": [],
   "source": [
    "laptop=pd.DataFrame({\"Title\":titles[:10],\"Price\":prices[:10],\"Ratings\":ratings[:10]})"
   ]
  },
  {
   "cell_type": "code",
   "execution_count": 492,
   "metadata": {},
   "outputs": [
    {
     "data": {
      "text/html": [
       "<div>\n",
       "<style scoped>\n",
       "    .dataframe tbody tr th:only-of-type {\n",
       "        vertical-align: middle;\n",
       "    }\n",
       "\n",
       "    .dataframe tbody tr th {\n",
       "        vertical-align: top;\n",
       "    }\n",
       "\n",
       "    .dataframe thead th {\n",
       "        text-align: right;\n",
       "    }\n",
       "</style>\n",
       "<table border=\"1\" class=\"dataframe\">\n",
       "  <thead>\n",
       "    <tr style=\"text-align: right;\">\n",
       "      <th></th>\n",
       "      <th>Title</th>\n",
       "      <th>Price</th>\n",
       "      <th>Ratings</th>\n",
       "    </tr>\n",
       "  </thead>\n",
       "  <tbody>\n",
       "    <tr>\n",
       "      <th>0</th>\n",
       "      <td>Lenovo Yoga 7 11th Gen Intel Core i7 14\" (35.5...</td>\n",
       "      <td>97,990</td>\n",
       "      <td>4.2 out of 5 stars</td>\n",
       "    </tr>\n",
       "    <tr>\n",
       "      <th>1</th>\n",
       "      <td>Mi Notebook Horizon Edition 14 Intel Core i5-1...</td>\n",
       "      <td>54,999</td>\n",
       "      <td>4.4 out of 5 stars</td>\n",
       "    </tr>\n",
       "    <tr>\n",
       "      <th>2</th>\n",
       "      <td>HP Pavilion (2021) Thin &amp; Light 11th Gen Core ...</td>\n",
       "      <td>84,990</td>\n",
       "      <td>4.5 out of 5 stars</td>\n",
       "    </tr>\n",
       "    <tr>\n",
       "      <th>3</th>\n",
       "      <td>HP 14 Thin &amp; Light 14\" (35.56cms) FHD Laptop (...</td>\n",
       "      <td>88,000</td>\n",
       "      <td>4.7 out of 5 stars</td>\n",
       "    </tr>\n",
       "    <tr>\n",
       "      <th>4</th>\n",
       "      <td>Lenovo Ideapad 5 Intel i7 11th Gen 15.6\" Thin ...</td>\n",
       "      <td>83,990</td>\n",
       "      <td>5.0 out of 5 stars</td>\n",
       "    </tr>\n",
       "    <tr>\n",
       "      <th>5</th>\n",
       "      <td>(Renewed) ASUS ROG Strix Scar II GL504GM-ES155...</td>\n",
       "      <td>1,18,992</td>\n",
       "      <td>4.1 out of 5 stars</td>\n",
       "    </tr>\n",
       "    <tr>\n",
       "      <th>6</th>\n",
       "      <td>HP Pavilion Gaming 10th Gen Intel Core i7 Proc...</td>\n",
       "      <td>86,990</td>\n",
       "      <td>3.8 out of 5 stars</td>\n",
       "    </tr>\n",
       "    <tr>\n",
       "      <th>7</th>\n",
       "      <td>ASUS ROG Zephyrus Duo 15, 15.6\" 4K UHD, Intel ...</td>\n",
       "      <td>2,69,990</td>\n",
       "      <td>3.1 out of 5 stars</td>\n",
       "    </tr>\n",
       "    <tr>\n",
       "      <th>8</th>\n",
       "      <td>Life Digital Laptop 15.6-inch (39.62 cms) (Int...</td>\n",
       "      <td>26,990</td>\n",
       "      <td>2.4 out of 5 stars</td>\n",
       "    </tr>\n",
       "    <tr>\n",
       "      <th>9</th>\n",
       "      <td>Dell XPS 9570 15.6\" (39.62cms) UHD Laptop (8th...</td>\n",
       "      <td>2,49,990</td>\n",
       "      <td>3.8 out of 5 stars</td>\n",
       "    </tr>\n",
       "  </tbody>\n",
       "</table>\n",
       "</div>"
      ],
      "text/plain": [
       "                                               Title     Price  \\\n",
       "0  Lenovo Yoga 7 11th Gen Intel Core i7 14\" (35.5...    97,990   \n",
       "1  Mi Notebook Horizon Edition 14 Intel Core i5-1...    54,999   \n",
       "2  HP Pavilion (2021) Thin & Light 11th Gen Core ...    84,990   \n",
       "3  HP 14 Thin & Light 14\" (35.56cms) FHD Laptop (...    88,000   \n",
       "4  Lenovo Ideapad 5 Intel i7 11th Gen 15.6\" Thin ...    83,990   \n",
       "5  (Renewed) ASUS ROG Strix Scar II GL504GM-ES155...  1,18,992   \n",
       "6  HP Pavilion Gaming 10th Gen Intel Core i7 Proc...    86,990   \n",
       "7  ASUS ROG Zephyrus Duo 15, 15.6\" 4K UHD, Intel ...  2,69,990   \n",
       "8  Life Digital Laptop 15.6-inch (39.62 cms) (Int...    26,990   \n",
       "9  Dell XPS 9570 15.6\" (39.62cms) UHD Laptop (8th...  2,49,990   \n",
       "\n",
       "              Ratings  \n",
       "0  4.2 out of 5 stars  \n",
       "1  4.4 out of 5 stars  \n",
       "2  4.5 out of 5 stars  \n",
       "3  4.7 out of 5 stars  \n",
       "4  5.0 out of 5 stars  \n",
       "5  4.1 out of 5 stars  \n",
       "6  3.8 out of 5 stars  \n",
       "7  3.1 out of 5 stars  \n",
       "8  2.4 out of 5 stars  \n",
       "9  3.8 out of 5 stars  "
      ]
     },
     "execution_count": 492,
     "metadata": {},
     "output_type": "execute_result"
    }
   ],
   "source": [
    "laptop"
   ]
  },
  {
   "cell_type": "code",
   "execution_count": null,
   "metadata": {},
   "outputs": [],
   "source": []
  }
 ],
 "metadata": {
  "kernelspec": {
   "display_name": "Python 3",
   "language": "python",
   "name": "python3"
  },
  "language_info": {
   "codemirror_mode": {
    "name": "ipython",
    "version": 3
   },
   "file_extension": ".py",
   "mimetype": "text/x-python",
   "name": "python",
   "nbconvert_exporter": "python",
   "pygments_lexer": "ipython3",
   "version": "3.8.5"
  }
 },
 "nbformat": 4,
 "nbformat_minor": 4
}
